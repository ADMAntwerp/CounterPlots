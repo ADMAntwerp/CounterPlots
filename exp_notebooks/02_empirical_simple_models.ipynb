{
 "cells": [
  {
   "cell_type": "code",
   "execution_count": 1,
   "metadata": {},
   "outputs": [],
   "source": [
    "import sys\n",
    "# Append the previous directory to the path\n",
    "sys.path.append('../')"
   ]
  },
  {
   "cell_type": "code",
   "execution_count": 2,
   "metadata": {},
   "outputs": [],
   "source": [
    "import os\n",
    "\n",
    "import shap\n",
    "import lime\n",
    "import seaborn as sns\n",
    "from nice import NICE\n",
    "import numpy as np\n",
    "import pandas as pd\n",
    "from sklearn.datasets import make_classification\n",
    "from exp_utils import counterplot_explainer, shap_explainer, lime_explainer, generate_explanations\n"
   ]
  },
  {
   "cell_type": "code",
   "execution_count": 3,
   "metadata": {},
   "outputs": [],
   "source": [
    "# Create dataset\n",
    "simple_models_dataset = make_classification(\n",
    "    n_samples=1000,\n",
    "    n_features=5,\n",
    "    n_informative=5, \n",
    "    n_redundant=0,\n",
    "    n_repeated=0, \n",
    "    n_classes=2,\n",
    "    random_state=42)\n",
    "\n",
    "X_simple_models_dataset, y_simple_models_dataset = simple_models_dataset"
   ]
  },
  {
   "attachments": {},
   "cell_type": "markdown",
   "metadata": {},
   "source": [
    "#### Logistic Regression\n",
    "Here a logistic regression is used with an artificially generated dataset.\n",
    "The dataset has 1000 samples with 5 informative features and 2 classes."
   ]
  },
  {
   "cell_type": "code",
   "execution_count": 4,
   "metadata": {},
   "outputs": [],
   "source": [
    "# Import scikit-learn logistic regression package\n",
    "from sklearn.linear_model import LogisticRegression\n",
    "from counterplots import CreatePlot"
   ]
  },
  {
   "cell_type": "code",
   "execution_count": 5,
   "metadata": {},
   "outputs": [],
   "source": [
    "# Create logistic regression model with default parameters and random state 42\n",
    "lr_model = LogisticRegression(random_state=42, penalty='none', fit_intercept=False)"
   ]
  },
  {
   "cell_type": "code",
   "execution_count": 6,
   "metadata": {},
   "outputs": [
    {
     "name": "stderr",
     "output_type": "stream",
     "text": [
      "`penalty='none'`has been deprecated in 1.2 and will be removed in 1.4. To keep the past behaviour, set `penalty=None`.\n"
     ]
    },
    {
     "data": {
      "text/html": [
       "<style>#sk-container-id-1 {color: black;background-color: white;}#sk-container-id-1 pre{padding: 0;}#sk-container-id-1 div.sk-toggleable {background-color: white;}#sk-container-id-1 label.sk-toggleable__label {cursor: pointer;display: block;width: 100%;margin-bottom: 0;padding: 0.3em;box-sizing: border-box;text-align: center;}#sk-container-id-1 label.sk-toggleable__label-arrow:before {content: \"▸\";float: left;margin-right: 0.25em;color: #696969;}#sk-container-id-1 label.sk-toggleable__label-arrow:hover:before {color: black;}#sk-container-id-1 div.sk-estimator:hover label.sk-toggleable__label-arrow:before {color: black;}#sk-container-id-1 div.sk-toggleable__content {max-height: 0;max-width: 0;overflow: hidden;text-align: left;background-color: #f0f8ff;}#sk-container-id-1 div.sk-toggleable__content pre {margin: 0.2em;color: black;border-radius: 0.25em;background-color: #f0f8ff;}#sk-container-id-1 input.sk-toggleable__control:checked~div.sk-toggleable__content {max-height: 200px;max-width: 100%;overflow: auto;}#sk-container-id-1 input.sk-toggleable__control:checked~label.sk-toggleable__label-arrow:before {content: \"▾\";}#sk-container-id-1 div.sk-estimator input.sk-toggleable__control:checked~label.sk-toggleable__label {background-color: #d4ebff;}#sk-container-id-1 div.sk-label input.sk-toggleable__control:checked~label.sk-toggleable__label {background-color: #d4ebff;}#sk-container-id-1 input.sk-hidden--visually {border: 0;clip: rect(1px 1px 1px 1px);clip: rect(1px, 1px, 1px, 1px);height: 1px;margin: -1px;overflow: hidden;padding: 0;position: absolute;width: 1px;}#sk-container-id-1 div.sk-estimator {font-family: monospace;background-color: #f0f8ff;border: 1px dotted black;border-radius: 0.25em;box-sizing: border-box;margin-bottom: 0.5em;}#sk-container-id-1 div.sk-estimator:hover {background-color: #d4ebff;}#sk-container-id-1 div.sk-parallel-item::after {content: \"\";width: 100%;border-bottom: 1px solid gray;flex-grow: 1;}#sk-container-id-1 div.sk-label:hover label.sk-toggleable__label {background-color: #d4ebff;}#sk-container-id-1 div.sk-serial::before {content: \"\";position: absolute;border-left: 1px solid gray;box-sizing: border-box;top: 0;bottom: 0;left: 50%;z-index: 0;}#sk-container-id-1 div.sk-serial {display: flex;flex-direction: column;align-items: center;background-color: white;padding-right: 0.2em;padding-left: 0.2em;position: relative;}#sk-container-id-1 div.sk-item {position: relative;z-index: 1;}#sk-container-id-1 div.sk-parallel {display: flex;align-items: stretch;justify-content: center;background-color: white;position: relative;}#sk-container-id-1 div.sk-item::before, #sk-container-id-1 div.sk-parallel-item::before {content: \"\";position: absolute;border-left: 1px solid gray;box-sizing: border-box;top: 0;bottom: 0;left: 50%;z-index: -1;}#sk-container-id-1 div.sk-parallel-item {display: flex;flex-direction: column;z-index: 1;position: relative;background-color: white;}#sk-container-id-1 div.sk-parallel-item:first-child::after {align-self: flex-end;width: 50%;}#sk-container-id-1 div.sk-parallel-item:last-child::after {align-self: flex-start;width: 50%;}#sk-container-id-1 div.sk-parallel-item:only-child::after {width: 0;}#sk-container-id-1 div.sk-dashed-wrapped {border: 1px dashed gray;margin: 0 0.4em 0.5em 0.4em;box-sizing: border-box;padding-bottom: 0.4em;background-color: white;}#sk-container-id-1 div.sk-label label {font-family: monospace;font-weight: bold;display: inline-block;line-height: 1.2em;}#sk-container-id-1 div.sk-label-container {text-align: center;}#sk-container-id-1 div.sk-container {/* jupyter's `normalize.less` sets `[hidden] { display: none; }` but bootstrap.min.css set `[hidden] { display: none !important; }` so we also need the `!important` here to be able to override the default hidden behavior on the sphinx rendered scikit-learn.org. See: https://github.com/scikit-learn/scikit-learn/issues/21755 */display: inline-block !important;position: relative;}#sk-container-id-1 div.sk-text-repr-fallback {display: none;}</style><div id=\"sk-container-id-1\" class=\"sk-top-container\"><div class=\"sk-text-repr-fallback\"><pre>LogisticRegression(fit_intercept=False, penalty=&#x27;none&#x27;, random_state=42)</pre><b>In a Jupyter environment, please rerun this cell to show the HTML representation or trust the notebook. <br />On GitHub, the HTML representation is unable to render, please try loading this page with nbviewer.org.</b></div><div class=\"sk-container\" hidden><div class=\"sk-item\"><div class=\"sk-estimator sk-toggleable\"><input class=\"sk-toggleable__control sk-hidden--visually\" id=\"sk-estimator-id-1\" type=\"checkbox\" checked><label for=\"sk-estimator-id-1\" class=\"sk-toggleable__label sk-toggleable__label-arrow\">LogisticRegression</label><div class=\"sk-toggleable__content\"><pre>LogisticRegression(fit_intercept=False, penalty=&#x27;none&#x27;, random_state=42)</pre></div></div></div></div></div>"
      ],
      "text/plain": [
       "LogisticRegression(fit_intercept=False, penalty='none', random_state=42)"
      ]
     },
     "execution_count": 6,
     "metadata": {},
     "output_type": "execute_result"
    }
   ],
   "source": [
    "# Train logistic regression model\n",
    "lr_model.fit(X_simple_models_dataset, y_simple_models_dataset)"
   ]
  },
  {
   "cell_type": "code",
   "execution_count": 7,
   "metadata": {},
   "outputs": [
    {
     "name": "stdout",
     "output_type": "stream",
     "text": [
      "Accuracy of logistic regression model:  0.789\n"
     ]
    }
   ],
   "source": [
    "# Print the accuracy of the logistic regression model\n",
    "print(\"Accuracy of logistic regression model: \", lr_model.score(X_simple_models_dataset, y_simple_models_dataset))"
   ]
  },
  {
   "cell_type": "code",
   "execution_count": 8,
   "metadata": {},
   "outputs": [
    {
     "name": "stdout",
     "output_type": "stream",
     "text": [
      "LR weights:  [[-0.58999013  0.66743407  0.7849269  -0.33591243 -0.59442337]]\n"
     ]
    }
   ],
   "source": [
    "# Print LR weights\n",
    "print(\"LR weights: \", lr_model.coef_)"
   ]
  },
  {
   "cell_type": "code",
   "execution_count": 9,
   "metadata": {},
   "outputs": [
    {
     "name": "stdout",
     "output_type": "stream",
     "text": [
      "LR weights in LaTeX table format: \n",
      "\\begin{tabular}{rrrrr}\n",
      "\\toprule\n",
      "-0.59 & 0.67 & 0.78 & -0.34 & -0.59 \\\\\n",
      "\\bottomrule\n",
      "\\end{tabular}\n",
      "\n"
     ]
    },
    {
     "name": "stderr",
     "output_type": "stream",
     "text": [
      "In future versions `DataFrame.to_latex` is expected to utilise the base implementation of `Styler.to_latex` for formatting and rendering. The arguments signature may therefore change. It is recommended instead to use `DataFrame.style.to_latex` which also contains additional functionality.\n"
     ]
    }
   ],
   "source": [
    "# Print LR weights in LaTeX table format, rouded to 2 decimals\n",
    "print(\"LR weights in LaTeX table format: \")\n",
    "print(pd.DataFrame(lr_model.coef_).round(2).to_latex(index=False, header=False))"
   ]
  },
  {
   "cell_type": "code",
   "execution_count": 10,
   "metadata": {},
   "outputs": [],
   "source": [
    "# Select points classified as 0\n",
    "lr_0_class_points = X_simple_models_dataset[lr_model.predict(X_simple_models_dataset) == 0]"
   ]
  },
  {
   "cell_type": "code",
   "execution_count": 11,
   "metadata": {},
   "outputs": [],
   "source": [
    "# Create NICE counterfactuals for 0 classified points\n",
    "lr_nice_cf = NICE(\n",
    "    predict_fn=lr_model.predict_proba, \n",
    "    X_train=X_simple_models_dataset, \n",
    "    y_train=y_simple_models_dataset, \n",
    "    cat_feat=[])\n",
    "lr_cfs = [lr_nice_cf.explain(np.array([x])) for x in lr_0_class_points]\n",
    "\n",
    "# Create CounterPlot Explanation Generator\n",
    "lr_ctp_exp = counterplot_explainer(\n",
    "    lambda x: lr_nice_cf.explain(np.array([x]))[0], \n",
    "    ['x1', 'x2', 'x3', 'x4', 'x5'], \n",
    "    {0: '0', 1: '1'},\n",
    "    lr_model.predict_proba)\n",
    "\n",
    "# Create CounterPlot explanations\n",
    "lr_cpt_results, lr_cpt_results_idx, lr_cpt_gen_times = generate_explanations(\n",
    "    lr_0_class_points, lr_ctp_exp.explain)"
   ]
  },
  {
   "cell_type": "code",
   "execution_count": 12,
   "metadata": {},
   "outputs": [
    {
     "name": "stderr",
     "output_type": "stream",
     "text": [
      "Using 1000 background data samples could cause slower run times. Consider using shap.sample(data, K) or shap.kmeans(data, K) to summarize the background as K samples.\n"
     ]
    }
   ],
   "source": [
    "# Create SHAP explainer object\n",
    "lr_shap = shap.KernelExplainer(lr_model.predict_proba, X_simple_models_dataset)\n",
    "\n",
    "# Create SHAP explanation generator\n",
    "lr_shap_exp = shap_explainer(lr_shap.shap_values)\n",
    "\n",
    "# Create SHAP explanations\n",
    "lr_shap_results, lr_shap_results_idx, lr_shap_gen_times = generate_explanations(\n",
    "    lr_0_class_points, lr_shap_exp.explain)"
   ]
  },
  {
   "cell_type": "code",
   "execution_count": 13,
   "metadata": {},
   "outputs": [],
   "source": [
    "# Create LIME explainer object\n",
    "lr_lime = lime.lime_tabular.LimeTabularExplainer(\n",
    "    X_simple_models_dataset, \n",
    "    feature_names=[\"x1\", \"x2\", \"x3\", \"x4\", \"x5\"], \n",
    "    class_names={0: \"0\", 1: \"1\"})\n",
    "\n",
    "# Create LIME explanation generator\n",
    "lr_lime_exp = lime_explainer(lr_lime, lr_model.predict_proba)\n",
    "\n",
    "# Create LIME explanations\n",
    "lr_lime_results, lr_lime_results_idx, lr_lime_gen_times = generate_explanations(\n",
    "    lr_0_class_points, lr_lime_exp.explain)"
   ]
  },
  {
   "cell_type": "code",
   "execution_count": 14,
   "metadata": {},
   "outputs": [
    {
     "data": {
      "text/plain": [
       "<Figure size 400x500 with 0 Axes>"
      ]
     },
     "metadata": {},
     "output_type": "display_data"
    },
    {
     "data": {
      "text/plain": [
       "<Figure size 400x500 with 0 Axes>"
      ]
     },
     "metadata": {},
     "output_type": "display_data"
    },
    {
     "data": {
      "text/plain": [
       "<Figure size 400x500 with 0 Axes>"
      ]
     },
     "metadata": {},
     "output_type": "display_data"
    },
    {
     "data": {
      "text/plain": [
       "<Figure size 400x500 with 0 Axes>"
      ]
     },
     "metadata": {},
     "output_type": "display_data"
    },
    {
     "data": {
      "text/plain": [
       "<Figure size 400x500 with 0 Axes>"
      ]
     },
     "metadata": {},
     "output_type": "display_data"
    },
    {
     "data": {
      "text/plain": [
       "<Figure size 400x500 with 0 Axes>"
      ]
     },
     "metadata": {},
     "output_type": "display_data"
    },
    {
     "data": {
      "text/plain": [
       "<Figure size 400x500 with 0 Axes>"
      ]
     },
     "metadata": {},
     "output_type": "display_data"
    },
    {
     "data": {
      "text/plain": [
       "<Figure size 400x500 with 0 Axes>"
      ]
     },
     "metadata": {},
     "output_type": "display_data"
    },
    {
     "data": {
      "text/plain": [
       "<Figure size 400x500 with 0 Axes>"
      ]
     },
     "metadata": {},
     "output_type": "display_data"
    },
    {
     "data": {
      "text/plain": [
       "<Figure size 400x500 with 0 Axes>"
      ]
     },
     "metadata": {},
     "output_type": "display_data"
    },
    {
     "data": {
      "text/plain": [
       "<Figure size 400x500 with 0 Axes>"
      ]
     },
     "metadata": {},
     "output_type": "display_data"
    },
    {
     "data": {
      "text/plain": [
       "<Figure size 400x500 with 0 Axes>"
      ]
     },
     "metadata": {},
     "output_type": "display_data"
    },
    {
     "data": {
      "text/plain": [
       "<Figure size 400x500 with 0 Axes>"
      ]
     },
     "metadata": {},
     "output_type": "display_data"
    },
    {
     "data": {
      "text/plain": [
       "<Figure size 400x500 with 0 Axes>"
      ]
     },
     "metadata": {},
     "output_type": "display_data"
    },
    {
     "data": {
      "text/plain": [
       "<Figure size 400x500 with 0 Axes>"
      ]
     },
     "metadata": {},
     "output_type": "display_data"
    }
   ],
   "source": [
    "import matplotlib.pyplot as plt\n",
    "\n",
    "# Create path './plots/simple_models' if not exists\n",
    "os.makedirs('./plots/simple_models', exist_ok=True)\n",
    "\n",
    "def create_hist_fi(feat_idx, fi_data, features_labels, limits_x, limits_y, save_path):\n",
    "    try:\n",
    "        # Plot size must be 4x5\n",
    "        plt.figure(figsize=(4, 5))\n",
    "        # Histogram with a red line showing the mean\n",
    "        sns.histplot(pd.DataFrame(fi_data)[feat_idx].round(8))\n",
    "        # plt.xlabel(f'{features_labels[feat_idx]} feature importance')\n",
    "        plt.xlabel('')\n",
    "        plt.axvline(pd.DataFrame(fi_data)[feat_idx].mean(), color='r', linestyle='dashed', linewidth=1)\n",
    "        plt.xlim(limits_x)\n",
    "        plt.ylim(limits_y)\n",
    "        plt.savefig(save_path, bbox_inches='tight')\n",
    "        # Clear the plot\n",
    "        plt.clf()\n",
    "    except:\n",
    "        plt.clf()\n",
    "        plt.savefig(save_path, bbox_inches='tight')\n",
    "        plt.clf()\n",
    "        pass\n",
    "    \n",
    "for method_name, fi_data in zip(['cf', 'shap', 'lime'], [lr_cpt_results_idx, lr_shap_results_idx, lr_lime_results_idx]):\n",
    "    for feat_idx in range(5):\n",
    "        create_hist_fi(feat_idx, fi_data, [\"1st\", \"2nd\", \"3rd\", \"4th\", \"5th\"], [-0.5, 0.6], [0, 200], f'./plots/simple_models/{method_name}_{feat_idx}.pdf')"
   ]
  },
  {
   "cell_type": "code",
   "execution_count": 15,
   "metadata": {},
   "outputs": [
    {
     "data": {
      "text/html": [
       "<div>\n",
       "<style scoped>\n",
       "    .dataframe tbody tr th:only-of-type {\n",
       "        vertical-align: middle;\n",
       "    }\n",
       "\n",
       "    .dataframe tbody tr th {\n",
       "        vertical-align: top;\n",
       "    }\n",
       "\n",
       "    .dataframe thead th {\n",
       "        text-align: right;\n",
       "    }\n",
       "</style>\n",
       "<table border=\"1\" class=\"dataframe\">\n",
       "  <thead>\n",
       "    <tr style=\"text-align: right;\">\n",
       "      <th></th>\n",
       "      <th>0</th>\n",
       "      <th>1</th>\n",
       "      <th>2</th>\n",
       "      <th>3</th>\n",
       "      <th>4</th>\n",
       "    </tr>\n",
       "  </thead>\n",
       "  <tbody>\n",
       "    <tr>\n",
       "      <th>CounterPlot</th>\n",
       "      <td>0.582888</td>\n",
       "      <td>0.532977</td>\n",
       "      <td>0.750446</td>\n",
       "      <td>0.254902</td>\n",
       "      <td>0.538324</td>\n",
       "    </tr>\n",
       "    <tr>\n",
       "      <th>SHAP</th>\n",
       "      <td>1.000000</td>\n",
       "      <td>1.000000</td>\n",
       "      <td>1.000000</td>\n",
       "      <td>1.000000</td>\n",
       "      <td>1.000000</td>\n",
       "    </tr>\n",
       "    <tr>\n",
       "      <th>LIME</th>\n",
       "      <td>1.000000</td>\n",
       "      <td>1.000000</td>\n",
       "      <td>1.000000</td>\n",
       "      <td>1.000000</td>\n",
       "      <td>1.000000</td>\n",
       "    </tr>\n",
       "  </tbody>\n",
       "</table>\n",
       "</div>"
      ],
      "text/plain": [
       "                    0         1         2         3         4\n",
       "CounterPlot  0.582888  0.532977  0.750446  0.254902  0.538324\n",
       "SHAP         1.000000  1.000000  1.000000  1.000000  1.000000\n",
       "LIME         1.000000  1.000000  1.000000  1.000000  1.000000"
      ]
     },
     "execution_count": 15,
     "metadata": {},
     "output_type": "execute_result"
    }
   ],
   "source": [
    "# Get times which importance values were different from 0\n",
    "\n",
    "iw_lr_cpt = (pd.DataFrame(lr_cpt_results_idx).abs() >= 1e-10 ).mean().sort_index()\n",
    "iw_shap_cpt = (pd.DataFrame(lr_shap_results_idx).abs() >= 1e-10 ).mean().sort_index()\n",
    "iw_lime_cpt = (pd.DataFrame(lr_lime_results_idx).abs() >= 1e-10 ).mean().sort_index()\n",
    "\n",
    "pd.DataFrame([iw_lr_cpt, iw_shap_cpt, iw_lime_cpt], index=['CounterPlot', 'SHAP', 'LIME'])"
   ]
  },
  {
   "cell_type": "code",
   "execution_count": 16,
   "metadata": {},
   "outputs": [
    {
     "data": {
      "text/html": [
       "<div>\n",
       "<style scoped>\n",
       "    .dataframe tbody tr th:only-of-type {\n",
       "        vertical-align: middle;\n",
       "    }\n",
       "\n",
       "    .dataframe tbody tr th {\n",
       "        vertical-align: top;\n",
       "    }\n",
       "\n",
       "    .dataframe thead th {\n",
       "        text-align: right;\n",
       "    }\n",
       "</style>\n",
       "<table border=\"1\" class=\"dataframe\">\n",
       "  <thead>\n",
       "    <tr style=\"text-align: right;\">\n",
       "      <th></th>\n",
       "      <th>0</th>\n",
       "      <th>1</th>\n",
       "      <th>2</th>\n",
       "      <th>3</th>\n",
       "      <th>4</th>\n",
       "    </tr>\n",
       "  </thead>\n",
       "  <tbody>\n",
       "    <tr>\n",
       "      <th>CounterPlot</th>\n",
       "      <td>0.149996</td>\n",
       "      <td>0.103296</td>\n",
       "      <td>0.195179</td>\n",
       "      <td>0.066862</td>\n",
       "      <td>0.113154</td>\n",
       "    </tr>\n",
       "    <tr>\n",
       "      <th>SHAP</th>\n",
       "      <td>0.113450</td>\n",
       "      <td>0.095257</td>\n",
       "      <td>0.138349</td>\n",
       "      <td>0.056047</td>\n",
       "      <td>0.090723</td>\n",
       "    </tr>\n",
       "    <tr>\n",
       "      <th>LIME</th>\n",
       "      <td>0.159342</td>\n",
       "      <td>0.139570</td>\n",
       "      <td>0.189894</td>\n",
       "      <td>0.087911</td>\n",
       "      <td>0.128208</td>\n",
       "    </tr>\n",
       "  </tbody>\n",
       "</table>\n",
       "</div>"
      ],
      "text/plain": [
       "                    0         1         2         3         4\n",
       "CounterPlot  0.149996  0.103296  0.195179  0.066862  0.113154\n",
       "SHAP         0.113450  0.095257  0.138349  0.056047  0.090723\n",
       "LIME         0.159342  0.139570  0.189894  0.087911  0.128208"
      ]
     },
     "execution_count": 16,
     "metadata": {},
     "output_type": "execute_result"
    }
   ],
   "source": [
    "# Get average importance values for each feature\n",
    "\n",
    "lr_fi_avg_cpt = pd.DataFrame(lr_cpt_results_idx).mean().sort_index()\n",
    "lr_fi_avg_shap = pd.DataFrame(lr_shap_results_idx).abs().mean().sort_index()\n",
    "lr_fi_avg_lime = pd.DataFrame(lr_lime_results_idx).abs().mean().sort_index()\n",
    "\n",
    "pd.DataFrame([lr_fi_avg_cpt, lr_fi_avg_shap, lr_fi_avg_lime], index=['CounterPlot', 'SHAP', 'LIME'])"
   ]
  },
  {
   "cell_type": "code",
   "execution_count": 17,
   "metadata": {},
   "outputs": [
    {
     "data": {
      "text/html": [
       "<div>\n",
       "<style scoped>\n",
       "    .dataframe tbody tr th:only-of-type {\n",
       "        vertical-align: middle;\n",
       "    }\n",
       "\n",
       "    .dataframe tbody tr th {\n",
       "        vertical-align: top;\n",
       "    }\n",
       "\n",
       "    .dataframe thead th {\n",
       "        text-align: right;\n",
       "    }\n",
       "</style>\n",
       "<table border=\"1\" class=\"dataframe\">\n",
       "  <thead>\n",
       "    <tr style=\"text-align: right;\">\n",
       "      <th></th>\n",
       "      <th>0</th>\n",
       "      <th>2</th>\n",
       "      <th>4</th>\n",
       "      <th>3</th>\n",
       "      <th>1</th>\n",
       "    </tr>\n",
       "  </thead>\n",
       "  <tbody>\n",
       "    <tr>\n",
       "      <th>count</th>\n",
       "      <td>327.000000</td>\n",
       "      <td>421.000000</td>\n",
       "      <td>302.000000</td>\n",
       "      <td>143.000000</td>\n",
       "      <td>299.000000</td>\n",
       "    </tr>\n",
       "    <tr>\n",
       "      <th>mean</th>\n",
       "      <td>0.149996</td>\n",
       "      <td>0.195179</td>\n",
       "      <td>0.113154</td>\n",
       "      <td>0.066862</td>\n",
       "      <td>0.103296</td>\n",
       "    </tr>\n",
       "    <tr>\n",
       "      <th>std</th>\n",
       "      <td>0.097474</td>\n",
       "      <td>0.106209</td>\n",
       "      <td>0.069651</td>\n",
       "      <td>0.044339</td>\n",
       "      <td>0.071396</td>\n",
       "    </tr>\n",
       "    <tr>\n",
       "      <th>min</th>\n",
       "      <td>0.003172</td>\n",
       "      <td>0.017015</td>\n",
       "      <td>0.000701</td>\n",
       "      <td>0.005794</td>\n",
       "      <td>0.008455</td>\n",
       "    </tr>\n",
       "    <tr>\n",
       "      <th>25%</th>\n",
       "      <td>0.077868</td>\n",
       "      <td>0.121238</td>\n",
       "      <td>0.060695</td>\n",
       "      <td>0.034040</td>\n",
       "      <td>0.052412</td>\n",
       "    </tr>\n",
       "    <tr>\n",
       "      <th>50%</th>\n",
       "      <td>0.131532</td>\n",
       "      <td>0.174829</td>\n",
       "      <td>0.101693</td>\n",
       "      <td>0.059351</td>\n",
       "      <td>0.085338</td>\n",
       "    </tr>\n",
       "    <tr>\n",
       "      <th>75%</th>\n",
       "      <td>0.202537</td>\n",
       "      <td>0.255246</td>\n",
       "      <td>0.149488</td>\n",
       "      <td>0.083528</td>\n",
       "      <td>0.137198</td>\n",
       "    </tr>\n",
       "    <tr>\n",
       "      <th>max</th>\n",
       "      <td>0.586216</td>\n",
       "      <td>0.699246</td>\n",
       "      <td>0.409692</td>\n",
       "      <td>0.256642</td>\n",
       "      <td>0.419017</td>\n",
       "    </tr>\n",
       "  </tbody>\n",
       "</table>\n",
       "</div>"
      ],
      "text/plain": [
       "                0           2           4           3           1\n",
       "count  327.000000  421.000000  302.000000  143.000000  299.000000\n",
       "mean     0.149996    0.195179    0.113154    0.066862    0.103296\n",
       "std      0.097474    0.106209    0.069651    0.044339    0.071396\n",
       "min      0.003172    0.017015    0.000701    0.005794    0.008455\n",
       "25%      0.077868    0.121238    0.060695    0.034040    0.052412\n",
       "50%      0.131532    0.174829    0.101693    0.059351    0.085338\n",
       "75%      0.202537    0.255246    0.149488    0.083528    0.137198\n",
       "max      0.586216    0.699246    0.409692    0.256642    0.419017"
      ]
     },
     "execution_count": 17,
     "metadata": {},
     "output_type": "execute_result"
    }
   ],
   "source": [
    "# Get overall statistics for each explanation method\n",
    "pd.DataFrame(lr_cpt_results_idx).describe()"
   ]
  },
  {
   "cell_type": "code",
   "execution_count": 18,
   "metadata": {},
   "outputs": [
    {
     "data": {
      "text/html": [
       "<div>\n",
       "<style scoped>\n",
       "    .dataframe tbody tr th:only-of-type {\n",
       "        vertical-align: middle;\n",
       "    }\n",
       "\n",
       "    .dataframe tbody tr th {\n",
       "        vertical-align: top;\n",
       "    }\n",
       "\n",
       "    .dataframe thead th {\n",
       "        text-align: right;\n",
       "    }\n",
       "</style>\n",
       "<table border=\"1\" class=\"dataframe\">\n",
       "  <thead>\n",
       "    <tr style=\"text-align: right;\">\n",
       "      <th></th>\n",
       "      <th>0</th>\n",
       "      <th>1</th>\n",
       "      <th>2</th>\n",
       "      <th>3</th>\n",
       "      <th>4</th>\n",
       "    </tr>\n",
       "  </thead>\n",
       "  <tbody>\n",
       "    <tr>\n",
       "      <th>count</th>\n",
       "      <td>561.000000</td>\n",
       "      <td>561.000000</td>\n",
       "      <td>561.000000</td>\n",
       "      <td>561.000000</td>\n",
       "      <td>561.000000</td>\n",
       "    </tr>\n",
       "    <tr>\n",
       "      <th>mean</th>\n",
       "      <td>-0.044500</td>\n",
       "      <td>-0.057699</td>\n",
       "      <td>-0.091780</td>\n",
       "      <td>-0.010370</td>\n",
       "      <td>-0.046476</td>\n",
       "    </tr>\n",
       "    <tr>\n",
       "      <th>std</th>\n",
       "      <td>0.127401</td>\n",
       "      <td>0.102739</td>\n",
       "      <td>0.151039</td>\n",
       "      <td>0.067447</td>\n",
       "      <td>0.110005</td>\n",
       "    </tr>\n",
       "    <tr>\n",
       "      <th>min</th>\n",
       "      <td>-0.334666</td>\n",
       "      <td>-0.342114</td>\n",
       "      <td>-0.529475</td>\n",
       "      <td>-0.225826</td>\n",
       "      <td>-0.484387</td>\n",
       "    </tr>\n",
       "    <tr>\n",
       "      <th>25%</th>\n",
       "      <td>-0.142686</td>\n",
       "      <td>-0.126078</td>\n",
       "      <td>-0.199850</td>\n",
       "      <td>-0.060420</td>\n",
       "      <td>-0.098646</td>\n",
       "    </tr>\n",
       "    <tr>\n",
       "      <th>50%</th>\n",
       "      <td>-0.058002</td>\n",
       "      <td>-0.064077</td>\n",
       "      <td>-0.082622</td>\n",
       "      <td>-0.001870</td>\n",
       "      <td>-0.043007</td>\n",
       "    </tr>\n",
       "    <tr>\n",
       "      <th>75%</th>\n",
       "      <td>0.033601</td>\n",
       "      <td>-0.004294</td>\n",
       "      <td>0.009702</td>\n",
       "      <td>0.043698</td>\n",
       "      <td>0.013556</td>\n",
       "    </tr>\n",
       "    <tr>\n",
       "      <th>max</th>\n",
       "      <td>0.285915</td>\n",
       "      <td>0.342943</td>\n",
       "      <td>0.309070</td>\n",
       "      <td>0.196874</td>\n",
       "      <td>0.255981</td>\n",
       "    </tr>\n",
       "  </tbody>\n",
       "</table>\n",
       "</div>"
      ],
      "text/plain": [
       "                0           1           2           3           4\n",
       "count  561.000000  561.000000  561.000000  561.000000  561.000000\n",
       "mean    -0.044500   -0.057699   -0.091780   -0.010370   -0.046476\n",
       "std      0.127401    0.102739    0.151039    0.067447    0.110005\n",
       "min     -0.334666   -0.342114   -0.529475   -0.225826   -0.484387\n",
       "25%     -0.142686   -0.126078   -0.199850   -0.060420   -0.098646\n",
       "50%     -0.058002   -0.064077   -0.082622   -0.001870   -0.043007\n",
       "75%      0.033601   -0.004294    0.009702    0.043698    0.013556\n",
       "max      0.285915    0.342943    0.309070    0.196874    0.255981"
      ]
     },
     "execution_count": 18,
     "metadata": {},
     "output_type": "execute_result"
    }
   ],
   "source": [
    "# Get overall statistics for each explanation method\n",
    "pd.DataFrame(lr_shap_results_idx).describe()"
   ]
  },
  {
   "cell_type": "code",
   "execution_count": 19,
   "metadata": {},
   "outputs": [
    {
     "data": {
      "text/html": [
       "<div>\n",
       "<style scoped>\n",
       "    .dataframe tbody tr th:only-of-type {\n",
       "        vertical-align: middle;\n",
       "    }\n",
       "\n",
       "    .dataframe tbody tr th {\n",
       "        vertical-align: top;\n",
       "    }\n",
       "\n",
       "    .dataframe thead th {\n",
       "        text-align: right;\n",
       "    }\n",
       "</style>\n",
       "<table border=\"1\" class=\"dataframe\">\n",
       "  <thead>\n",
       "    <tr style=\"text-align: right;\">\n",
       "      <th></th>\n",
       "      <th>0</th>\n",
       "      <th>1</th>\n",
       "      <th>2</th>\n",
       "      <th>3</th>\n",
       "      <th>4</th>\n",
       "    </tr>\n",
       "  </thead>\n",
       "  <tbody>\n",
       "    <tr>\n",
       "      <th>count</th>\n",
       "      <td>561.000000</td>\n",
       "      <td>561.000000</td>\n",
       "      <td>561.000000</td>\n",
       "      <td>561.000000</td>\n",
       "      <td>561.000000</td>\n",
       "    </tr>\n",
       "    <tr>\n",
       "      <th>mean</th>\n",
       "      <td>-0.045608</td>\n",
       "      <td>-0.058966</td>\n",
       "      <td>-0.100576</td>\n",
       "      <td>-0.002533</td>\n",
       "      <td>-0.050215</td>\n",
       "    </tr>\n",
       "    <tr>\n",
       "      <th>std</th>\n",
       "      <td>0.177547</td>\n",
       "      <td>0.161179</td>\n",
       "      <td>0.200056</td>\n",
       "      <td>0.102579</td>\n",
       "      <td>0.144218</td>\n",
       "    </tr>\n",
       "    <tr>\n",
       "      <th>min</th>\n",
       "      <td>-0.265896</td>\n",
       "      <td>-0.239629</td>\n",
       "      <td>-0.337186</td>\n",
       "      <td>-0.160457</td>\n",
       "      <td>-0.241435</td>\n",
       "    </tr>\n",
       "    <tr>\n",
       "      <th>25%</th>\n",
       "      <td>-0.237385</td>\n",
       "      <td>-0.213640</td>\n",
       "      <td>-0.313669</td>\n",
       "      <td>-0.122198</td>\n",
       "      <td>-0.215781</td>\n",
       "    </tr>\n",
       "    <tr>\n",
       "      <th>50%</th>\n",
       "      <td>-0.061155</td>\n",
       "      <td>-0.089713</td>\n",
       "      <td>-0.085600</td>\n",
       "      <td>0.016312</td>\n",
       "      <td>-0.059530</td>\n",
       "    </tr>\n",
       "    <tr>\n",
       "      <th>75%</th>\n",
       "      <td>0.065481</td>\n",
       "      <td>0.013370</td>\n",
       "      <td>0.072550</td>\n",
       "      <td>0.051761</td>\n",
       "      <td>0.052299</td>\n",
       "    </tr>\n",
       "    <tr>\n",
       "      <th>max</th>\n",
       "      <td>0.266233</td>\n",
       "      <td>0.316574</td>\n",
       "      <td>0.338157</td>\n",
       "      <td>0.161500</td>\n",
       "      <td>0.251237</td>\n",
       "    </tr>\n",
       "  </tbody>\n",
       "</table>\n",
       "</div>"
      ],
      "text/plain": [
       "                0           1           2           3           4\n",
       "count  561.000000  561.000000  561.000000  561.000000  561.000000\n",
       "mean    -0.045608   -0.058966   -0.100576   -0.002533   -0.050215\n",
       "std      0.177547    0.161179    0.200056    0.102579    0.144218\n",
       "min     -0.265896   -0.239629   -0.337186   -0.160457   -0.241435\n",
       "25%     -0.237385   -0.213640   -0.313669   -0.122198   -0.215781\n",
       "50%     -0.061155   -0.089713   -0.085600    0.016312   -0.059530\n",
       "75%      0.065481    0.013370    0.072550    0.051761    0.052299\n",
       "max      0.266233    0.316574    0.338157    0.161500    0.251237"
      ]
     },
     "execution_count": 19,
     "metadata": {},
     "output_type": "execute_result"
    }
   ],
   "source": [
    "# Get overall statistics for each explanation method\n",
    "pd.DataFrame(lr_lime_results_idx).describe()"
   ]
  },
  {
   "attachments": {},
   "cell_type": "markdown",
   "metadata": {},
   "source": [
    "#### Decision Tree\n",
    "Here a decision tree is used with an artificially generated dataset. \n",
    "The dataset has 1000 samples with 5 informative features and 2 classes."
   ]
  },
  {
   "cell_type": "code",
   "execution_count": 20,
   "metadata": {},
   "outputs": [],
   "source": [
    "# Import scikit-learn decision tree package\n",
    "from sklearn.tree import DecisionTreeClassifier"
   ]
  },
  {
   "cell_type": "code",
   "execution_count": 21,
   "metadata": {},
   "outputs": [],
   "source": [
    "# Create decision tree model with default parameters and random state 42, limit to 3 levels\n",
    "dt_model = DecisionTreeClassifier(random_state=42, max_depth=2)"
   ]
  },
  {
   "cell_type": "code",
   "execution_count": 22,
   "metadata": {},
   "outputs": [
    {
     "data": {
      "text/html": [
       "<style>#sk-container-id-2 {color: black;background-color: white;}#sk-container-id-2 pre{padding: 0;}#sk-container-id-2 div.sk-toggleable {background-color: white;}#sk-container-id-2 label.sk-toggleable__label {cursor: pointer;display: block;width: 100%;margin-bottom: 0;padding: 0.3em;box-sizing: border-box;text-align: center;}#sk-container-id-2 label.sk-toggleable__label-arrow:before {content: \"▸\";float: left;margin-right: 0.25em;color: #696969;}#sk-container-id-2 label.sk-toggleable__label-arrow:hover:before {color: black;}#sk-container-id-2 div.sk-estimator:hover label.sk-toggleable__label-arrow:before {color: black;}#sk-container-id-2 div.sk-toggleable__content {max-height: 0;max-width: 0;overflow: hidden;text-align: left;background-color: #f0f8ff;}#sk-container-id-2 div.sk-toggleable__content pre {margin: 0.2em;color: black;border-radius: 0.25em;background-color: #f0f8ff;}#sk-container-id-2 input.sk-toggleable__control:checked~div.sk-toggleable__content {max-height: 200px;max-width: 100%;overflow: auto;}#sk-container-id-2 input.sk-toggleable__control:checked~label.sk-toggleable__label-arrow:before {content: \"▾\";}#sk-container-id-2 div.sk-estimator input.sk-toggleable__control:checked~label.sk-toggleable__label {background-color: #d4ebff;}#sk-container-id-2 div.sk-label input.sk-toggleable__control:checked~label.sk-toggleable__label {background-color: #d4ebff;}#sk-container-id-2 input.sk-hidden--visually {border: 0;clip: rect(1px 1px 1px 1px);clip: rect(1px, 1px, 1px, 1px);height: 1px;margin: -1px;overflow: hidden;padding: 0;position: absolute;width: 1px;}#sk-container-id-2 div.sk-estimator {font-family: monospace;background-color: #f0f8ff;border: 1px dotted black;border-radius: 0.25em;box-sizing: border-box;margin-bottom: 0.5em;}#sk-container-id-2 div.sk-estimator:hover {background-color: #d4ebff;}#sk-container-id-2 div.sk-parallel-item::after {content: \"\";width: 100%;border-bottom: 1px solid gray;flex-grow: 1;}#sk-container-id-2 div.sk-label:hover label.sk-toggleable__label {background-color: #d4ebff;}#sk-container-id-2 div.sk-serial::before {content: \"\";position: absolute;border-left: 1px solid gray;box-sizing: border-box;top: 0;bottom: 0;left: 50%;z-index: 0;}#sk-container-id-2 div.sk-serial {display: flex;flex-direction: column;align-items: center;background-color: white;padding-right: 0.2em;padding-left: 0.2em;position: relative;}#sk-container-id-2 div.sk-item {position: relative;z-index: 1;}#sk-container-id-2 div.sk-parallel {display: flex;align-items: stretch;justify-content: center;background-color: white;position: relative;}#sk-container-id-2 div.sk-item::before, #sk-container-id-2 div.sk-parallel-item::before {content: \"\";position: absolute;border-left: 1px solid gray;box-sizing: border-box;top: 0;bottom: 0;left: 50%;z-index: -1;}#sk-container-id-2 div.sk-parallel-item {display: flex;flex-direction: column;z-index: 1;position: relative;background-color: white;}#sk-container-id-2 div.sk-parallel-item:first-child::after {align-self: flex-end;width: 50%;}#sk-container-id-2 div.sk-parallel-item:last-child::after {align-self: flex-start;width: 50%;}#sk-container-id-2 div.sk-parallel-item:only-child::after {width: 0;}#sk-container-id-2 div.sk-dashed-wrapped {border: 1px dashed gray;margin: 0 0.4em 0.5em 0.4em;box-sizing: border-box;padding-bottom: 0.4em;background-color: white;}#sk-container-id-2 div.sk-label label {font-family: monospace;font-weight: bold;display: inline-block;line-height: 1.2em;}#sk-container-id-2 div.sk-label-container {text-align: center;}#sk-container-id-2 div.sk-container {/* jupyter's `normalize.less` sets `[hidden] { display: none; }` but bootstrap.min.css set `[hidden] { display: none !important; }` so we also need the `!important` here to be able to override the default hidden behavior on the sphinx rendered scikit-learn.org. See: https://github.com/scikit-learn/scikit-learn/issues/21755 */display: inline-block !important;position: relative;}#sk-container-id-2 div.sk-text-repr-fallback {display: none;}</style><div id=\"sk-container-id-2\" class=\"sk-top-container\"><div class=\"sk-text-repr-fallback\"><pre>DecisionTreeClassifier(max_depth=2, random_state=42)</pre><b>In a Jupyter environment, please rerun this cell to show the HTML representation or trust the notebook. <br />On GitHub, the HTML representation is unable to render, please try loading this page with nbviewer.org.</b></div><div class=\"sk-container\" hidden><div class=\"sk-item\"><div class=\"sk-estimator sk-toggleable\"><input class=\"sk-toggleable__control sk-hidden--visually\" id=\"sk-estimator-id-2\" type=\"checkbox\" checked><label for=\"sk-estimator-id-2\" class=\"sk-toggleable__label sk-toggleable__label-arrow\">DecisionTreeClassifier</label><div class=\"sk-toggleable__content\"><pre>DecisionTreeClassifier(max_depth=2, random_state=42)</pre></div></div></div></div></div>"
      ],
      "text/plain": [
       "DecisionTreeClassifier(max_depth=2, random_state=42)"
      ]
     },
     "execution_count": 22,
     "metadata": {},
     "output_type": "execute_result"
    }
   ],
   "source": [
    "dt_model.fit(X_simple_models_dataset, y_simple_models_dataset)"
   ]
  },
  {
   "cell_type": "code",
   "execution_count": 23,
   "metadata": {},
   "outputs": [
    {
     "name": "stdout",
     "output_type": "stream",
     "text": [
      "Accuracy of decision tree model:  0.838\n"
     ]
    }
   ],
   "source": [
    "# Print the accuracy of the decision tree model\n",
    "print(\"Accuracy of decision tree model: \", dt_model.score(X_simple_models_dataset, y_simple_models_dataset))"
   ]
  },
  {
   "cell_type": "code",
   "execution_count": 24,
   "metadata": {},
   "outputs": [
    {
     "data": {
      "text/plain": [
       "[Text(0.5, 0.8333333333333334, 'x5 <= -0.24\\ngini = 0.5\\nsamples = 1000\\nvalue = [500, 500]\\nclass = 0'),\n",
       " Text(0.25, 0.5, 'x2 <= -1.615\\ngini = 0.274\\nsamples = 330\\nvalue = [54, 276]\\nclass = 1'),\n",
       " Text(0.125, 0.16666666666666666, 'gini = 0.469\\nsamples = 64\\nvalue = [40, 24]\\nclass = 0'),\n",
       " Text(0.375, 0.16666666666666666, 'gini = 0.1\\nsamples = 266\\nvalue = [14, 252]\\nclass = 1'),\n",
       " Text(0.75, 0.5, 'x1 <= -0.207\\ngini = 0.445\\nsamples = 670\\nvalue = [446, 224]\\nclass = 0'),\n",
       " Text(0.625, 0.16666666666666666, 'gini = 0.431\\nsamples = 270\\nvalue = [85, 185]\\nclass = 1'),\n",
       " Text(0.875, 0.16666666666666666, 'gini = 0.176\\nsamples = 400\\nvalue = [361, 39]\\nclass = 0')]"
      ]
     },
     "execution_count": 24,
     "metadata": {},
     "output_type": "execute_result"
    },
    {
     "data": {
      "image/png": "[encoded data removed]",
      "text/plain": [
       "<Figure size 2000x1000 with 1 Axes>"
      ]
     },
     "metadata": {},
     "output_type": "display_data"
    }
   ],
   "source": [
    "# Print representation of decision tree model using matplotlib\n",
    "from sklearn.tree import plot_tree\n",
    "import matplotlib.pyplot as plt\n",
    "plt.figure(figsize=(20,10))\n",
    "plot_tree(dt_model, feature_names=[\"x1\", \"x2\", \"x3\", \"x4\", \"x5\"], class_names=[\"0\", \"1\"], filled=True)"
   ]
  },
  {
   "cell_type": "code",
   "execution_count": 25,
   "metadata": {},
   "outputs": [],
   "source": [
    "# Select points classified as 0\n",
    "dt_0_class_points = X_simple_models_dataset[dt_model.predict(X_simple_models_dataset) == 0]"
   ]
  },
  {
   "cell_type": "code",
   "execution_count": 26,
   "metadata": {},
   "outputs": [],
   "source": [
    "# Create NICE counterfactuals for 0 classified points\n",
    "dt_nice_cf = NICE(\n",
    "    predict_fn=dt_model.predict_proba, \n",
    "    X_train=X_simple_models_dataset, \n",
    "    y_train=y_simple_models_dataset, \n",
    "    cat_feat=[])\n",
    "dt_cfs = [dt_nice_cf.explain(np.array([x])) for x in dt_0_class_points]\n",
    "\n",
    "# Create CounterPlot Explanation Generator\n",
    "dt_ctp_exp = counterplot_explainer(\n",
    "    lambda x: dt_nice_cf.explain(np.array([x]))[0], \n",
    "    ['x1', 'x2', 'x3', 'x4', 'x5'], \n",
    "    {0: '0', 1: '1'},\n",
    "    dt_model.predict_proba)\n",
    "\n",
    "# Create CounterPlot explanations\n",
    "dt_cpt_results, dt_cpt_results_idx, dt_cpt_gen_times = generate_explanations(\n",
    "    dt_0_class_points, dt_ctp_exp.explain)"
   ]
  },
  {
   "cell_type": "code",
   "execution_count": 27,
   "metadata": {},
   "outputs": [
    {
     "name": "stderr",
     "output_type": "stream",
     "text": [
      "Using 1000 background data samples could cause slower run times. Consider using shap.sample(data, K) or shap.kmeans(data, K) to summarize the background as K samples.\n"
     ]
    }
   ],
   "source": [
    "# Create SHAP explainer object\n",
    "dt_shap = shap.KernelExplainer(dt_model.predict_proba, X_simple_models_dataset)\n",
    "\n",
    "# Create SHAP explanation generator\n",
    "dt_shap_exp = shap_explainer(dt_shap.shap_values)\n",
    "\n",
    "# Create SHAP explanations\n",
    "dt_shap_results, dt_shap_results_idx, dt_shap_gen_times = generate_explanations(\n",
    "    dt_0_class_points, dt_shap_exp.explain)"
   ]
  },
  {
   "cell_type": "code",
   "execution_count": 28,
   "metadata": {},
   "outputs": [],
   "source": [
    "# Create LIME explainer object\n",
    "dt_lime = lime.lime_tabular.LimeTabularExplainer(\n",
    "    X_simple_models_dataset, \n",
    "    feature_names=[\"x1\", \"x2\", \"x3\", \"x4\", \"x5\"], \n",
    "    class_names={0: \"0\", 1: \"1\"})\n",
    "\n",
    "# Create LIME explanation generator\n",
    "dt_lime_exp = lime_explainer(dt_lime, dt_model.predict_proba)\n",
    "\n",
    "# Create LIME explanations\n",
    "dt_lime_results, dt_lime_results_idx, dt_lime_gen_times = generate_explanations(\n",
    "    dt_0_class_points, dt_lime_exp.explain)"
   ]
  },
  {
   "cell_type": "code",
   "execution_count": 29,
   "metadata": {},
   "outputs": [
    {
     "data": {
      "text/html": [
       "<div>\n",
       "<style scoped>\n",
       "    .dataframe tbody tr th:only-of-type {\n",
       "        vertical-align: middle;\n",
       "    }\n",
       "\n",
       "    .dataframe tbody tr th {\n",
       "        vertical-align: top;\n",
       "    }\n",
       "\n",
       "    .dataframe thead th {\n",
       "        text-align: right;\n",
       "    }\n",
       "</style>\n",
       "<table border=\"1\" class=\"dataframe\">\n",
       "  <thead>\n",
       "    <tr style=\"text-align: right;\">\n",
       "      <th></th>\n",
       "      <th>0</th>\n",
       "      <th>1</th>\n",
       "      <th>4</th>\n",
       "      <th>2</th>\n",
       "      <th>3</th>\n",
       "    </tr>\n",
       "  </thead>\n",
       "  <tbody>\n",
       "    <tr>\n",
       "      <th>CounterPlot</th>\n",
       "      <td>0.584818</td>\n",
       "      <td>0.458510</td>\n",
       "      <td>0.774288</td>\n",
       "      <td>NaN</td>\n",
       "      <td>NaN</td>\n",
       "    </tr>\n",
       "    <tr>\n",
       "      <th>SHAP</th>\n",
       "      <td>-0.154768</td>\n",
       "      <td>-0.045887</td>\n",
       "      <td>-0.163570</td>\n",
       "      <td>0.000000</td>\n",
       "      <td>0.000000</td>\n",
       "    </tr>\n",
       "    <tr>\n",
       "      <th>LIME</th>\n",
       "      <td>-0.117219</td>\n",
       "      <td>-0.032294</td>\n",
       "      <td>-0.109508</td>\n",
       "      <td>-0.000916</td>\n",
       "      <td>-0.000337</td>\n",
       "    </tr>\n",
       "  </tbody>\n",
       "</table>\n",
       "</div>"
      ],
      "text/plain": [
       "                    0         1         4         2         3\n",
       "CounterPlot  0.584818  0.458510  0.774288       NaN       NaN\n",
       "SHAP        -0.154768 -0.045887 -0.163570  0.000000  0.000000\n",
       "LIME        -0.117219 -0.032294 -0.109508 -0.000916 -0.000337"
      ]
     },
     "execution_count": 29,
     "metadata": {},
     "output_type": "execute_result"
    }
   ],
   "source": [
    "# Get average importance values for each feature\n",
    "\n",
    "dt_fi_avg_cpt = pd.DataFrame(dt_cpt_results_idx).mean().sort_index()\n",
    "dt_fi_avg_shap = pd.DataFrame(dt_shap_results_idx).mean().sort_index()\n",
    "dt_fi_avg_lime = pd.DataFrame(dt_lime_results_idx).mean().sort_index()\n",
    "\n",
    "pd.DataFrame([dt_fi_avg_cpt, dt_fi_avg_shap, dt_fi_avg_lime], index=['CounterPlot', 'SHAP', 'LIME'])"
   ]
  },
  {
   "cell_type": "code",
   "execution_count": 30,
   "metadata": {},
   "outputs": [
    {
     "data": {
      "text/html": [
       "<div>\n",
       "<style scoped>\n",
       "    .dataframe tbody tr th:only-of-type {\n",
       "        vertical-align: middle;\n",
       "    }\n",
       "\n",
       "    .dataframe tbody tr th {\n",
       "        vertical-align: top;\n",
       "    }\n",
       "\n",
       "    .dataframe thead th {\n",
       "        text-align: right;\n",
       "    }\n",
       "</style>\n",
       "<table border=\"1\" class=\"dataframe\">\n",
       "  <thead>\n",
       "    <tr style=\"text-align: right;\">\n",
       "      <th></th>\n",
       "      <th>0</th>\n",
       "      <th>1</th>\n",
       "      <th>4</th>\n",
       "      <th>2</th>\n",
       "      <th>3</th>\n",
       "    </tr>\n",
       "  </thead>\n",
       "  <tbody>\n",
       "    <tr>\n",
       "      <th>CounterPlot</th>\n",
       "      <td>0.44181</td>\n",
       "      <td>0.200431</td>\n",
       "      <td>0.44181</td>\n",
       "      <td>NaN</td>\n",
       "      <td>NaN</td>\n",
       "    </tr>\n",
       "    <tr>\n",
       "      <th>SHAP</th>\n",
       "      <td>1.00000</td>\n",
       "      <td>1.000000</td>\n",
       "      <td>1.00000</td>\n",
       "      <td>0.0</td>\n",
       "      <td>0.0</td>\n",
       "    </tr>\n",
       "    <tr>\n",
       "      <th>LIME</th>\n",
       "      <td>1.00000</td>\n",
       "      <td>1.000000</td>\n",
       "      <td>1.00000</td>\n",
       "      <td>1.0</td>\n",
       "      <td>1.0</td>\n",
       "    </tr>\n",
       "  </tbody>\n",
       "</table>\n",
       "</div>"
      ],
      "text/plain": [
       "                   0         1        4    2    3\n",
       "CounterPlot  0.44181  0.200431  0.44181  NaN  NaN\n",
       "SHAP         1.00000  1.000000  1.00000  0.0  0.0\n",
       "LIME         1.00000  1.000000  1.00000  1.0  1.0"
      ]
     },
     "execution_count": 30,
     "metadata": {},
     "output_type": "execute_result"
    }
   ],
   "source": [
    "# Get times which importance values were different from 0\n",
    "\n",
    "iw_csv_dt = (pd.DataFrame(dt_cpt_results_idx).abs() >= 1e-10).mean().sort_index()\n",
    "iw_shap_dt = (pd.DataFrame(dt_shap_results_idx).abs() >= 1e-10 ).mean().sort_index()\n",
    "iw_lime_dt = (pd.DataFrame(dt_lime_results_idx).abs() >= 1e-10 ).mean().sort_index()\n",
    "\n",
    "pd.DataFrame([iw_csv_dt, iw_shap_dt, iw_lime_dt], index=['CounterPlot', 'SHAP', 'LIME'])"
   ]
  },
  {
   "cell_type": "code",
   "execution_count": 31,
   "metadata": {},
   "outputs": [
    {
     "data": {
      "text/plain": [
       "False"
      ]
     },
     "execution_count": 31,
     "metadata": {},
     "output_type": "execute_result"
    }
   ],
   "source": [
    "pd.DataFrame(dt_shap_results_idx)[2][0] >= 1e-10 "
   ]
  },
  {
   "cell_type": "code",
   "execution_count": 32,
   "metadata": {},
   "outputs": [
    {
     "data": {
      "text/plain": [
       "<Figure size 400x500 with 0 Axes>"
      ]
     },
     "metadata": {},
     "output_type": "display_data"
    },
    {
     "data": {
      "text/plain": [
       "<Figure size 400x500 with 0 Axes>"
      ]
     },
     "metadata": {},
     "output_type": "display_data"
    },
    {
     "data": {
      "text/plain": [
       "<Figure size 400x500 with 0 Axes>"
      ]
     },
     "metadata": {},
     "output_type": "display_data"
    },
    {
     "data": {
      "text/plain": [
       "<Figure size 400x500 with 0 Axes>"
      ]
     },
     "metadata": {},
     "output_type": "display_data"
    },
    {
     "data": {
      "text/plain": [
       "<Figure size 400x500 with 0 Axes>"
      ]
     },
     "metadata": {},
     "output_type": "display_data"
    },
    {
     "data": {
      "text/plain": [
       "<Figure size 400x500 with 0 Axes>"
      ]
     },
     "metadata": {},
     "output_type": "display_data"
    },
    {
     "data": {
      "text/plain": [
       "<Figure size 400x500 with 0 Axes>"
      ]
     },
     "metadata": {},
     "output_type": "display_data"
    },
    {
     "data": {
      "text/plain": [
       "<Figure size 400x500 with 0 Axes>"
      ]
     },
     "metadata": {},
     "output_type": "display_data"
    },
    {
     "data": {
      "text/plain": [
       "<Figure size 400x500 with 0 Axes>"
      ]
     },
     "metadata": {},
     "output_type": "display_data"
    },
    {
     "data": {
      "text/plain": [
       "<Figure size 400x500 with 0 Axes>"
      ]
     },
     "metadata": {},
     "output_type": "display_data"
    },
    {
     "data": {
      "text/plain": [
       "<Figure size 400x500 with 0 Axes>"
      ]
     },
     "metadata": {},
     "output_type": "display_data"
    },
    {
     "data": {
      "text/plain": [
       "<Figure size 400x500 with 0 Axes>"
      ]
     },
     "metadata": {},
     "output_type": "display_data"
    },
    {
     "data": {
      "text/plain": [
       "<Figure size 400x500 with 0 Axes>"
      ]
     },
     "metadata": {},
     "output_type": "display_data"
    },
    {
     "data": {
      "text/plain": [
       "<Figure size 400x500 with 0 Axes>"
      ]
     },
     "metadata": {},
     "output_type": "display_data"
    },
    {
     "data": {
      "text/plain": [
       "<Figure size 400x500 with 0 Axes>"
      ]
     },
     "metadata": {},
     "output_type": "display_data"
    }
   ],
   "source": [
    "for method_name, fi_data in zip(['cf', 'shap', 'lime'], [dt_cpt_results_idx, dt_shap_results_idx, dt_lime_results_idx]):\n",
    "    for feat_idx in range(5):\n",
    "        create_hist_fi(feat_idx, fi_data, [\"1st\", \"2nd\", \"3rd\", \"4th\", \"5th\"], [-0.5, 1], [0, 350], f'./plots/simple_models/dt_{method_name}_{feat_idx}.pdf')"
   ]
  },
  {
   "cell_type": "code",
   "execution_count": 33,
   "metadata": {},
   "outputs": [
    {
     "name": "stdout",
     "output_type": "stream",
     "text": [
      "\\begin{tabular}{lrrrrr}\n",
      "\\toprule\n",
      "{} &       0 &       1 &       2 &       3 &       4 \\\\\n",
      "\\midrule\n",
      "CounterPlot &  0.5848 &  0.4585 &     NaN &     NaN &  0.7743 \\\\\n",
      "SHAP        & -0.1548 & -0.0459 &  0.0000 &  0.0000 & -0.1636 \\\\\n",
      "LIME        & -0.1172 & -0.0323 & -0.0009 & -0.0003 & -0.1095 \\\\\n",
      "\\bottomrule\n",
      "\\end{tabular}\n",
      "\n"
     ]
    },
    {
     "name": "stderr",
     "output_type": "stream",
     "text": [
      "In future versions `DataFrame.to_latex` is expected to utilise the base implementation of `Styler.to_latex` for formatting and rendering. The arguments signature may therefore change. It is recommended instead to use `DataFrame.style.to_latex` which also contains additional functionality.\n"
     ]
    }
   ],
   "source": [
    "dt_data_avg = pd.DataFrame([dt_fi_avg_cpt, dt_fi_avg_shap, dt_fi_avg_lime], index=['CounterPlot', 'SHAP', 'LIME'])\n",
    "# Order columns\n",
    "dt_data_avg = dt_data_avg[[0, 1, 2, 3, 4]]\n",
    "# Round to 2 decimal places\n",
    "dt_data_avg = dt_data_avg.round(4)\n",
    "# Print latex, with ordered columns\n",
    "print(dt_data_avg.to_latex())"
   ]
  },
  {
   "cell_type": "code",
   "execution_count": 34,
   "metadata": {},
   "outputs": [
    {
     "data": {
      "text/html": [
       "<div>\n",
       "<style scoped>\n",
       "    .dataframe tbody tr th:only-of-type {\n",
       "        vertical-align: middle;\n",
       "    }\n",
       "\n",
       "    .dataframe tbody tr th {\n",
       "        vertical-align: top;\n",
       "    }\n",
       "\n",
       "    .dataframe thead th {\n",
       "        text-align: right;\n",
       "    }\n",
       "</style>\n",
       "<table border=\"1\" class=\"dataframe\">\n",
       "  <thead>\n",
       "    <tr style=\"text-align: right;\">\n",
       "      <th></th>\n",
       "      <th>4</th>\n",
       "      <th>0</th>\n",
       "      <th>1</th>\n",
       "    </tr>\n",
       "  </thead>\n",
       "  <tbody>\n",
       "    <tr>\n",
       "      <th>count</th>\n",
       "      <td>205.000000</td>\n",
       "      <td>205.000000</td>\n",
       "      <td>93.000000</td>\n",
       "    </tr>\n",
       "    <tr>\n",
       "      <th>mean</th>\n",
       "      <td>0.774288</td>\n",
       "      <td>0.584818</td>\n",
       "      <td>0.458510</td>\n",
       "    </tr>\n",
       "    <tr>\n",
       "      <th>std</th>\n",
       "      <td>0.156500</td>\n",
       "      <td>0.028952</td>\n",
       "      <td>0.140833</td>\n",
       "    </tr>\n",
       "    <tr>\n",
       "      <th>min</th>\n",
       "      <td>0.016343</td>\n",
       "      <td>0.293843</td>\n",
       "      <td>0.286184</td>\n",
       "    </tr>\n",
       "    <tr>\n",
       "      <th>25%</th>\n",
       "      <td>0.849868</td>\n",
       "      <td>0.587685</td>\n",
       "      <td>0.286184</td>\n",
       "    </tr>\n",
       "    <tr>\n",
       "      <th>50%</th>\n",
       "      <td>0.849868</td>\n",
       "      <td>0.587685</td>\n",
       "      <td>0.572368</td>\n",
       "    </tr>\n",
       "    <tr>\n",
       "      <th>75%</th>\n",
       "      <td>0.849868</td>\n",
       "      <td>0.587685</td>\n",
       "      <td>0.572368</td>\n",
       "    </tr>\n",
       "    <tr>\n",
       "      <th>max</th>\n",
       "      <td>0.849868</td>\n",
       "      <td>0.587685</td>\n",
       "      <td>0.572368</td>\n",
       "    </tr>\n",
       "  </tbody>\n",
       "</table>\n",
       "</div>"
      ],
      "text/plain": [
       "                4           0          1\n",
       "count  205.000000  205.000000  93.000000\n",
       "mean     0.774288    0.584818   0.458510\n",
       "std      0.156500    0.028952   0.140833\n",
       "min      0.016343    0.293843   0.286184\n",
       "25%      0.849868    0.587685   0.286184\n",
       "50%      0.849868    0.587685   0.572368\n",
       "75%      0.849868    0.587685   0.572368\n",
       "max      0.849868    0.587685   0.572368"
      ]
     },
     "execution_count": 34,
     "metadata": {},
     "output_type": "execute_result"
    }
   ],
   "source": [
    "# Get overall statistics for each explanation method\n",
    "pd.DataFrame(dt_cpt_results_idx).describe()"
   ]
  },
  {
   "cell_type": "code",
   "execution_count": 35,
   "metadata": {},
   "outputs": [
    {
     "data": {
      "text/html": [
       "<div>\n",
       "<style scoped>\n",
       "    .dataframe tbody tr th:only-of-type {\n",
       "        vertical-align: middle;\n",
       "    }\n",
       "\n",
       "    .dataframe tbody tr th {\n",
       "        vertical-align: top;\n",
       "    }\n",
       "\n",
       "    .dataframe thead th {\n",
       "        text-align: right;\n",
       "    }\n",
       "</style>\n",
       "<table border=\"1\" class=\"dataframe\">\n",
       "  <thead>\n",
       "    <tr style=\"text-align: right;\">\n",
       "      <th></th>\n",
       "      <th>0</th>\n",
       "      <th>1</th>\n",
       "      <th>2</th>\n",
       "      <th>3</th>\n",
       "      <th>4</th>\n",
       "    </tr>\n",
       "  </thead>\n",
       "  <tbody>\n",
       "    <tr>\n",
       "      <th>count</th>\n",
       "      <td>464.000000</td>\n",
       "      <td>464.000000</td>\n",
       "      <td>464.0</td>\n",
       "      <td>464.0</td>\n",
       "      <td>464.000000</td>\n",
       "    </tr>\n",
       "    <tr>\n",
       "      <th>mean</th>\n",
       "      <td>-0.154768</td>\n",
       "      <td>-0.045887</td>\n",
       "      <td>0.0</td>\n",
       "      <td>0.0</td>\n",
       "      <td>-0.163570</td>\n",
       "    </tr>\n",
       "    <tr>\n",
       "      <th>std</th>\n",
       "      <td>0.073036</td>\n",
       "      <td>0.108978</td>\n",
       "      <td>0.0</td>\n",
       "      <td>0.0</td>\n",
       "      <td>0.144344</td>\n",
       "    </tr>\n",
       "    <tr>\n",
       "      <th>min</th>\n",
       "      <td>-0.180126</td>\n",
       "      <td>-0.301066</td>\n",
       "      <td>0.0</td>\n",
       "      <td>0.0</td>\n",
       "      <td>-0.240690</td>\n",
       "    </tr>\n",
       "    <tr>\n",
       "      <th>25%</th>\n",
       "      <td>-0.180126</td>\n",
       "      <td>-0.076125</td>\n",
       "      <td>0.0</td>\n",
       "      <td>0.0</td>\n",
       "      <td>-0.240690</td>\n",
       "    </tr>\n",
       "    <tr>\n",
       "      <th>50%</th>\n",
       "      <td>-0.180126</td>\n",
       "      <td>0.018316</td>\n",
       "      <td>0.0</td>\n",
       "      <td>0.0</td>\n",
       "      <td>-0.240690</td>\n",
       "    </tr>\n",
       "    <tr>\n",
       "      <th>75%</th>\n",
       "      <td>-0.180126</td>\n",
       "      <td>0.018316</td>\n",
       "      <td>0.0</td>\n",
       "      <td>0.0</td>\n",
       "      <td>-0.146249</td>\n",
       "    </tr>\n",
       "    <tr>\n",
       "      <th>max</th>\n",
       "      <td>0.117537</td>\n",
       "      <td>0.018316</td>\n",
       "      <td>0.0</td>\n",
       "      <td>0.0</td>\n",
       "      <td>0.255403</td>\n",
       "    </tr>\n",
       "  </tbody>\n",
       "</table>\n",
       "</div>"
      ],
      "text/plain": [
       "                0           1      2      3           4\n",
       "count  464.000000  464.000000  464.0  464.0  464.000000\n",
       "mean    -0.154768   -0.045887    0.0    0.0   -0.163570\n",
       "std      0.073036    0.108978    0.0    0.0    0.144344\n",
       "min     -0.180126   -0.301066    0.0    0.0   -0.240690\n",
       "25%     -0.180126   -0.076125    0.0    0.0   -0.240690\n",
       "50%     -0.180126    0.018316    0.0    0.0   -0.240690\n",
       "75%     -0.180126    0.018316    0.0    0.0   -0.146249\n",
       "max      0.117537    0.018316    0.0    0.0    0.255403"
      ]
     },
     "execution_count": 35,
     "metadata": {},
     "output_type": "execute_result"
    }
   ],
   "source": [
    "# Get overall statistics for each explanation method\n",
    "pd.DataFrame(dt_shap_results_idx).describe()"
   ]
  },
  {
   "cell_type": "code",
   "execution_count": 36,
   "metadata": {},
   "outputs": [
    {
     "data": {
      "text/html": [
       "<div>\n",
       "<style scoped>\n",
       "    .dataframe tbody tr th:only-of-type {\n",
       "        vertical-align: middle;\n",
       "    }\n",
       "\n",
       "    .dataframe tbody tr th {\n",
       "        vertical-align: top;\n",
       "    }\n",
       "\n",
       "    .dataframe thead th {\n",
       "        text-align: right;\n",
       "    }\n",
       "</style>\n",
       "<table border=\"1\" class=\"dataframe\">\n",
       "  <thead>\n",
       "    <tr style=\"text-align: right;\">\n",
       "      <th></th>\n",
       "      <th>0</th>\n",
       "      <th>1</th>\n",
       "      <th>2</th>\n",
       "      <th>3</th>\n",
       "      <th>4</th>\n",
       "    </tr>\n",
       "  </thead>\n",
       "  <tbody>\n",
       "    <tr>\n",
       "      <th>count</th>\n",
       "      <td>464.000000</td>\n",
       "      <td>464.000000</td>\n",
       "      <td>464.000000</td>\n",
       "      <td>464.000000</td>\n",
       "      <td>464.000000</td>\n",
       "    </tr>\n",
       "    <tr>\n",
       "      <th>mean</th>\n",
       "      <td>-0.117219</td>\n",
       "      <td>-0.032294</td>\n",
       "      <td>-0.000916</td>\n",
       "      <td>-0.000337</td>\n",
       "      <td>-0.109508</td>\n",
       "    </tr>\n",
       "    <tr>\n",
       "      <th>std</th>\n",
       "      <td>0.123576</td>\n",
       "      <td>0.107003</td>\n",
       "      <td>0.010769</td>\n",
       "      <td>0.010299</td>\n",
       "      <td>0.191963</td>\n",
       "    </tr>\n",
       "    <tr>\n",
       "      <th>min</th>\n",
       "      <td>-0.221894</td>\n",
       "      <td>-0.198099</td>\n",
       "      <td>-0.039169</td>\n",
       "      <td>-0.035992</td>\n",
       "      <td>-0.242242</td>\n",
       "    </tr>\n",
       "    <tr>\n",
       "      <th>25%</th>\n",
       "      <td>-0.187967</td>\n",
       "      <td>-0.159232</td>\n",
       "      <td>-0.007464</td>\n",
       "      <td>-0.006963</td>\n",
       "      <td>-0.218606</td>\n",
       "    </tr>\n",
       "    <tr>\n",
       "      <th>50%</th>\n",
       "      <td>-0.178773</td>\n",
       "      <td>0.042357</td>\n",
       "      <td>-0.000786</td>\n",
       "      <td>-0.000592</td>\n",
       "      <td>-0.205549</td>\n",
       "    </tr>\n",
       "    <tr>\n",
       "      <th>75%</th>\n",
       "      <td>-0.009965</td>\n",
       "      <td>0.054807</td>\n",
       "      <td>0.006683</td>\n",
       "      <td>0.006036</td>\n",
       "      <td>-0.056901</td>\n",
       "    </tr>\n",
       "    <tr>\n",
       "      <th>max</th>\n",
       "      <td>0.374944</td>\n",
       "      <td>0.082588</td>\n",
       "      <td>0.029518</td>\n",
       "      <td>0.030890</td>\n",
       "      <td>0.478248</td>\n",
       "    </tr>\n",
       "  </tbody>\n",
       "</table>\n",
       "</div>"
      ],
      "text/plain": [
       "                0           1           2           3           4\n",
       "count  464.000000  464.000000  464.000000  464.000000  464.000000\n",
       "mean    -0.117219   -0.032294   -0.000916   -0.000337   -0.109508\n",
       "std      0.123576    0.107003    0.010769    0.010299    0.191963\n",
       "min     -0.221894   -0.198099   -0.039169   -0.035992   -0.242242\n",
       "25%     -0.187967   -0.159232   -0.007464   -0.006963   -0.218606\n",
       "50%     -0.178773    0.042357   -0.000786   -0.000592   -0.205549\n",
       "75%     -0.009965    0.054807    0.006683    0.006036   -0.056901\n",
       "max      0.374944    0.082588    0.029518    0.030890    0.478248"
      ]
     },
     "execution_count": 36,
     "metadata": {},
     "output_type": "execute_result"
    }
   ],
   "source": [
    "# Get overall statistics for each explanation method\n",
    "pd.DataFrame(dt_lime_results_idx).describe()"
   ]
  },
  {
   "attachments": {},
   "cell_type": "markdown",
   "metadata": {},
   "source": [
    "#### KNN Classifier\n",
    "Here a KNN classifier is used with an artificially generated dataset.\n",
    "The dataset has 1000 samples with 2 informative features and 2 classes."
   ]
  },
  {
   "cell_type": "code",
   "execution_count": 37,
   "metadata": {},
   "outputs": [],
   "source": [
    "# Create dataset for KNN model\n",
    "knn_models_dataset = make_classification(\n",
    "    n_samples=1000,\n",
    "    n_features=2,\n",
    "    n_informative=2, \n",
    "    n_redundant=0,\n",
    "    n_repeated=0, \n",
    "    n_classes=2,\n",
    "    random_state=42)\n",
    "\n",
    "X_knn_models_dataset, y_knn_models_dataset = knn_models_dataset"
   ]
  },
  {
   "cell_type": "code",
   "execution_count": 38,
   "metadata": {},
   "outputs": [
    {
     "data": {
      "text/plain": [
       "<AxesSubplot: >"
      ]
     },
     "execution_count": 38,
     "metadata": {},
     "output_type": "execute_result"
    },
    {
     "data": {
      "image/png": "[encoded data removed]",
      "text/plain": [
       "<Figure size 640x480 with 1 Axes>"
      ]
     },
     "metadata": {},
     "output_type": "display_data"
    }
   ],
   "source": [
    "# Plot data points and classes\n",
    "sns.scatterplot(x=X_knn_models_dataset[:,0], y=X_knn_models_dataset[:,1], hue=y_knn_models_dataset)"
   ]
  },
  {
   "cell_type": "code",
   "execution_count": 39,
   "metadata": {},
   "outputs": [],
   "source": [
    "# Import scikit-learn KNN package\n",
    "from sklearn.neighbors import KNeighborsClassifier"
   ]
  },
  {
   "cell_type": "code",
   "execution_count": 40,
   "metadata": {},
   "outputs": [],
   "source": [
    "# Create KNN model with default parameters\n",
    "knn_model = KNeighborsClassifier()"
   ]
  },
  {
   "cell_type": "code",
   "execution_count": 41,
   "metadata": {},
   "outputs": [
    {
     "data": {
      "text/html": [
       "<style>#sk-container-id-3 {color: black;background-color: white;}#sk-container-id-3 pre{padding: 0;}#sk-container-id-3 div.sk-toggleable {background-color: white;}#sk-container-id-3 label.sk-toggleable__label {cursor: pointer;display: block;width: 100%;margin-bottom: 0;padding: 0.3em;box-sizing: border-box;text-align: center;}#sk-container-id-3 label.sk-toggleable__label-arrow:before {content: \"▸\";float: left;margin-right: 0.25em;color: #696969;}#sk-container-id-3 label.sk-toggleable__label-arrow:hover:before {color: black;}#sk-container-id-3 div.sk-estimator:hover label.sk-toggleable__label-arrow:before {color: black;}#sk-container-id-3 div.sk-toggleable__content {max-height: 0;max-width: 0;overflow: hidden;text-align: left;background-color: #f0f8ff;}#sk-container-id-3 div.sk-toggleable__content pre {margin: 0.2em;color: black;border-radius: 0.25em;background-color: #f0f8ff;}#sk-container-id-3 input.sk-toggleable__control:checked~div.sk-toggleable__content {max-height: 200px;max-width: 100%;overflow: auto;}#sk-container-id-3 input.sk-toggleable__control:checked~label.sk-toggleable__label-arrow:before {content: \"▾\";}#sk-container-id-3 div.sk-estimator input.sk-toggleable__control:checked~label.sk-toggleable__label {background-color: #d4ebff;}#sk-container-id-3 div.sk-label input.sk-toggleable__control:checked~label.sk-toggleable__label {background-color: #d4ebff;}#sk-container-id-3 input.sk-hidden--visually {border: 0;clip: rect(1px 1px 1px 1px);clip: rect(1px, 1px, 1px, 1px);height: 1px;margin: -1px;overflow: hidden;padding: 0;position: absolute;width: 1px;}#sk-container-id-3 div.sk-estimator {font-family: monospace;background-color: #f0f8ff;border: 1px dotted black;border-radius: 0.25em;box-sizing: border-box;margin-bottom: 0.5em;}#sk-container-id-3 div.sk-estimator:hover {background-color: #d4ebff;}#sk-container-id-3 div.sk-parallel-item::after {content: \"\";width: 100%;border-bottom: 1px solid gray;flex-grow: 1;}#sk-container-id-3 div.sk-label:hover label.sk-toggleable__label {background-color: #d4ebff;}#sk-container-id-3 div.sk-serial::before {content: \"\";position: absolute;border-left: 1px solid gray;box-sizing: border-box;top: 0;bottom: 0;left: 50%;z-index: 0;}#sk-container-id-3 div.sk-serial {display: flex;flex-direction: column;align-items: center;background-color: white;padding-right: 0.2em;padding-left: 0.2em;position: relative;}#sk-container-id-3 div.sk-item {position: relative;z-index: 1;}#sk-container-id-3 div.sk-parallel {display: flex;align-items: stretch;justify-content: center;background-color: white;position: relative;}#sk-container-id-3 div.sk-item::before, #sk-container-id-3 div.sk-parallel-item::before {content: \"\";position: absolute;border-left: 1px solid gray;box-sizing: border-box;top: 0;bottom: 0;left: 50%;z-index: -1;}#sk-container-id-3 div.sk-parallel-item {display: flex;flex-direction: column;z-index: 1;position: relative;background-color: white;}#sk-container-id-3 div.sk-parallel-item:first-child::after {align-self: flex-end;width: 50%;}#sk-container-id-3 div.sk-parallel-item:last-child::after {align-self: flex-start;width: 50%;}#sk-container-id-3 div.sk-parallel-item:only-child::after {width: 0;}#sk-container-id-3 div.sk-dashed-wrapped {border: 1px dashed gray;margin: 0 0.4em 0.5em 0.4em;box-sizing: border-box;padding-bottom: 0.4em;background-color: white;}#sk-container-id-3 div.sk-label label {font-family: monospace;font-weight: bold;display: inline-block;line-height: 1.2em;}#sk-container-id-3 div.sk-label-container {text-align: center;}#sk-container-id-3 div.sk-container {/* jupyter's `normalize.less` sets `[hidden] { display: none; }` but bootstrap.min.css set `[hidden] { display: none !important; }` so we also need the `!important` here to be able to override the default hidden behavior on the sphinx rendered scikit-learn.org. See: https://github.com/scikit-learn/scikit-learn/issues/21755 */display: inline-block !important;position: relative;}#sk-container-id-3 div.sk-text-repr-fallback {display: none;}</style><div id=\"sk-container-id-3\" class=\"sk-top-container\"><div class=\"sk-text-repr-fallback\"><pre>KNeighborsClassifier()</pre><b>In a Jupyter environment, please rerun this cell to show the HTML representation or trust the notebook. <br />On GitHub, the HTML representation is unable to render, please try loading this page with nbviewer.org.</b></div><div class=\"sk-container\" hidden><div class=\"sk-item\"><div class=\"sk-estimator sk-toggleable\"><input class=\"sk-toggleable__control sk-hidden--visually\" id=\"sk-estimator-id-3\" type=\"checkbox\" checked><label for=\"sk-estimator-id-3\" class=\"sk-toggleable__label sk-toggleable__label-arrow\">KNeighborsClassifier</label><div class=\"sk-toggleable__content\"><pre>KNeighborsClassifier()</pre></div></div></div></div></div>"
      ],
      "text/plain": [
       "KNeighborsClassifier()"
      ]
     },
     "execution_count": 41,
     "metadata": {},
     "output_type": "execute_result"
    }
   ],
   "source": [
    "# Train KNN model\n",
    "knn_model.fit(X_knn_models_dataset, y_knn_models_dataset)"
   ]
  },
  {
   "cell_type": "code",
   "execution_count": 42,
   "metadata": {},
   "outputs": [
    {
     "name": "stdout",
     "output_type": "stream",
     "text": [
      "Accuracy of KNN model:  0.938\n"
     ]
    }
   ],
   "source": [
    "# Print the accuracy of the KNN model\n",
    "print(\"Accuracy of KNN model: \", knn_model.score(X_knn_models_dataset, y_knn_models_dataset))"
   ]
  },
  {
   "cell_type": "code",
   "execution_count": 43,
   "metadata": {},
   "outputs": [],
   "source": [
    "# Select points classified as 0\n",
    "knn_0_class_points = X_knn_models_dataset[knn_model.predict(X_knn_models_dataset) == 0]"
   ]
  },
  {
   "cell_type": "code",
   "execution_count": 44,
   "metadata": {},
   "outputs": [],
   "source": [
    "# Create NICE counterfactuals for 0 classified points\n",
    "knn_nice_cf = NICE(\n",
    "    predict_fn=knn_model.predict_proba, \n",
    "    X_train=X_knn_models_dataset, \n",
    "    y_train=y_knn_models_dataset, \n",
    "    cat_feat=[])\n",
    "knn_cfs = [knn_nice_cf.explain(np.array([x])) for x in knn_0_class_points]\n",
    "\n",
    "# Create CounterPlot Explanation Generator\n",
    "knn_ctp_exp = counterplot_explainer(\n",
    "    lambda x: knn_nice_cf.explain(np.array([x]))[0], \n",
    "    ['x1', 'x2'], \n",
    "    {0: '0', 1: '1'},\n",
    "    knn_model.predict_proba)\n",
    "\n",
    "# Create CounterPlot explanations\n",
    "knn_cpt_results, knn_cpt_results_idx, knn_cpt_gen_times = generate_explanations(\n",
    "    knn_0_class_points, knn_ctp_exp.explain)"
   ]
  },
  {
   "cell_type": "code",
   "execution_count": 45,
   "metadata": {},
   "outputs": [
    {
     "name": "stderr",
     "output_type": "stream",
     "text": [
      "Using 1000 background data samples could cause slower run times. Consider using shap.sample(data, K) or shap.kmeans(data, K) to summarize the background as K samples.\n"
     ]
    }
   ],
   "source": [
    "# Create SHAP explainer object\n",
    "knn_shap = shap.KernelExplainer(knn_model.predict_proba, X_knn_models_dataset)\n",
    "\n",
    "# Create SHAP explanation generator\n",
    "knn_shap_exp = shap_explainer(knn_shap.shap_values)\n",
    "\n",
    "# Create SHAP explanations\n",
    "knn_shap_results, knn_shap_results_idx, knn_shap_gen_times = generate_explanations(\n",
    "    knn_0_class_points, knn_shap_exp.explain)"
   ]
  },
  {
   "cell_type": "code",
   "execution_count": 46,
   "metadata": {},
   "outputs": [],
   "source": [
    "# Create LIME explainer object\n",
    "knn_lime = lime.lime_tabular.LimeTabularExplainer(\n",
    "    X_knn_models_dataset, \n",
    "    feature_names=[\"x1\", \"x2\"], \n",
    "    class_names={0: \"0\", 1: \"1\"})\n",
    "\n",
    "# Create LIME explanation generator\n",
    "knn_lime_exp = lime_explainer(knn_lime, knn_model.predict_proba)\n",
    "\n",
    "# Create LIME explanations\n",
    "knn_lime_results, knn_lime_results_idx, knn_lime_gen_times = generate_explanations(\n",
    "    knn_0_class_points, knn_lime_exp.explain)"
   ]
  },
  {
   "cell_type": "code",
   "execution_count": 47,
   "metadata": {},
   "outputs": [
    {
     "data": {
      "text/html": [
       "<div>\n",
       "<style scoped>\n",
       "    .dataframe tbody tr th:only-of-type {\n",
       "        vertical-align: middle;\n",
       "    }\n",
       "\n",
       "    .dataframe tbody tr th {\n",
       "        vertical-align: top;\n",
       "    }\n",
       "\n",
       "    .dataframe thead th {\n",
       "        text-align: right;\n",
       "    }\n",
       "</style>\n",
       "<table border=\"1\" class=\"dataframe\">\n",
       "  <thead>\n",
       "    <tr style=\"text-align: right;\">\n",
       "      <th></th>\n",
       "      <th>0</th>\n",
       "      <th>1</th>\n",
       "    </tr>\n",
       "  </thead>\n",
       "  <tbody>\n",
       "    <tr>\n",
       "      <th>CounterPlot</th>\n",
       "      <td>0.349387</td>\n",
       "      <td>0.497005</td>\n",
       "    </tr>\n",
       "    <tr>\n",
       "      <th>SHAP</th>\n",
       "      <td>-0.084062</td>\n",
       "      <td>-0.333610</td>\n",
       "    </tr>\n",
       "    <tr>\n",
       "      <th>LIME</th>\n",
       "      <td>-0.014941</td>\n",
       "      <td>-0.349528</td>\n",
       "    </tr>\n",
       "  </tbody>\n",
       "</table>\n",
       "</div>"
      ],
      "text/plain": [
       "                    0         1\n",
       "CounterPlot  0.349387  0.497005\n",
       "SHAP        -0.084062 -0.333610\n",
       "LIME        -0.014941 -0.349528"
      ]
     },
     "execution_count": 47,
     "metadata": {},
     "output_type": "execute_result"
    }
   ],
   "source": [
    "# Get average importance values for each feature\n",
    "\n",
    "knn_fi_avg_cpt = pd.DataFrame(knn_cpt_results_idx).mean().sort_index()\n",
    "knn_fi_avg_shap = pd.DataFrame(knn_shap_results_idx).mean().sort_index()\n",
    "knn_fi_avg_lime = pd.DataFrame(knn_lime_results_idx).mean().sort_index()\n",
    "\n",
    "pd.DataFrame([knn_fi_avg_cpt, knn_fi_avg_shap, knn_fi_avg_lime], index=['CounterPlot', 'SHAP', 'LIME'])"
   ]
  },
  {
   "cell_type": "code",
   "execution_count": 48,
   "metadata": {},
   "outputs": [
    {
     "data": {
      "text/html": [
       "<div>\n",
       "<style scoped>\n",
       "    .dataframe tbody tr th:only-of-type {\n",
       "        vertical-align: middle;\n",
       "    }\n",
       "\n",
       "    .dataframe tbody tr th {\n",
       "        vertical-align: top;\n",
       "    }\n",
       "\n",
       "    .dataframe thead th {\n",
       "        text-align: right;\n",
       "    }\n",
       "</style>\n",
       "<table border=\"1\" class=\"dataframe\">\n",
       "  <thead>\n",
       "    <tr style=\"text-align: right;\">\n",
       "      <th></th>\n",
       "      <th>0</th>\n",
       "      <th>1</th>\n",
       "    </tr>\n",
       "  </thead>\n",
       "  <tbody>\n",
       "    <tr>\n",
       "      <th>CounterPlot</th>\n",
       "      <td>0.622605</td>\n",
       "      <td>0.816092</td>\n",
       "    </tr>\n",
       "    <tr>\n",
       "      <th>SHAP</th>\n",
       "      <td>1.000000</td>\n",
       "      <td>1.000000</td>\n",
       "    </tr>\n",
       "    <tr>\n",
       "      <th>LIME</th>\n",
       "      <td>1.000000</td>\n",
       "      <td>1.000000</td>\n",
       "    </tr>\n",
       "  </tbody>\n",
       "</table>\n",
       "</div>"
      ],
      "text/plain": [
       "                    0         1\n",
       "CounterPlot  0.622605  0.816092\n",
       "SHAP         1.000000  1.000000\n",
       "LIME         1.000000  1.000000"
      ]
     },
     "execution_count": 48,
     "metadata": {},
     "output_type": "execute_result"
    }
   ],
   "source": [
    "# Get times which importance values were different from 0\n",
    "\n",
    "iw_csv_knn = (pd.DataFrame(knn_cpt_results_idx).abs() >= 1e-10 ).mean().sort_index()\n",
    "iw_shap_knn = (pd.DataFrame(knn_shap_results_idx).abs() >= 1e-10 ).mean().sort_index()\n",
    "iw_lime_knn = (pd.DataFrame(knn_lime_results_idx).abs() >= 1e-10 ).mean().sort_index()\n",
    "\n",
    "pd.DataFrame([iw_csv_knn, iw_shap_knn, iw_lime_knn], index=['CounterPlot', 'SHAP', 'LIME'])"
   ]
  },
  {
   "cell_type": "code",
   "execution_count": 49,
   "metadata": {},
   "outputs": [
    {
     "data": {
      "text/plain": [
       "<Figure size 400x500 with 0 Axes>"
      ]
     },
     "metadata": {},
     "output_type": "display_data"
    },
    {
     "data": {
      "text/plain": [
       "<Figure size 400x500 with 0 Axes>"
      ]
     },
     "metadata": {},
     "output_type": "display_data"
    },
    {
     "data": {
      "text/plain": [
       "<Figure size 400x500 with 0 Axes>"
      ]
     },
     "metadata": {},
     "output_type": "display_data"
    },
    {
     "data": {
      "text/plain": [
       "<Figure size 400x500 with 0 Axes>"
      ]
     },
     "metadata": {},
     "output_type": "display_data"
    },
    {
     "data": {
      "text/plain": [
       "<Figure size 400x500 with 0 Axes>"
      ]
     },
     "metadata": {},
     "output_type": "display_data"
    },
    {
     "data": {
      "text/plain": [
       "<Figure size 400x500 with 0 Axes>"
      ]
     },
     "metadata": {},
     "output_type": "display_data"
    }
   ],
   "source": [
    "for method_name, fi_data in zip(['cf', 'shap', 'lime'], [knn_cpt_results_idx, knn_shap_results_idx, knn_lime_results_idx]):\n",
    "    for feat_idx in range(2):\n",
    "        create_hist_fi(feat_idx, fi_data, [\"1st\", \"2nd\"], [-1, 1], [0, 250], f'./plots/simple_models/knn_{method_name}_{feat_idx}.pdf')"
   ]
  },
  {
   "cell_type": "code",
   "execution_count": 50,
   "metadata": {},
   "outputs": [
    {
     "name": "stdout",
     "output_type": "stream",
     "text": [
      "\\begin{tabular}{lrr}\n",
      "\\toprule\n",
      "{} &     0 &     1 \\\\\n",
      "\\midrule\n",
      "CounterPlot &  0.35 &  0.50 \\\\\n",
      "SHAP        & -0.08 & -0.33 \\\\\n",
      "LIME        & -0.01 & -0.35 \\\\\n",
      "\\bottomrule\n",
      "\\end{tabular}\n",
      "\n"
     ]
    },
    {
     "name": "stderr",
     "output_type": "stream",
     "text": [
      "In future versions `DataFrame.to_latex` is expected to utilise the base implementation of `Styler.to_latex` for formatting and rendering. The arguments signature may therefore change. It is recommended instead to use `DataFrame.style.to_latex` which also contains additional functionality.\n"
     ]
    }
   ],
   "source": [
    "knn_data_avg = pd.DataFrame([knn_fi_avg_cpt, knn_fi_avg_shap, knn_fi_avg_lime], index=['CounterPlot', 'SHAP', 'LIME']).T\n",
    "# Round values to 2 decimal places\n",
    "knn_data_avg = knn_data_avg.round(2)\n",
    "# Print latex table\n",
    "print(knn_data_avg.T.to_latex())"
   ]
  },
  {
   "cell_type": "code",
   "execution_count": 51,
   "metadata": {},
   "outputs": [
    {
     "data": {
      "text/html": [
       "<div>\n",
       "<style scoped>\n",
       "    .dataframe tbody tr th:only-of-type {\n",
       "        vertical-align: middle;\n",
       "    }\n",
       "\n",
       "    .dataframe tbody tr th {\n",
       "        vertical-align: top;\n",
       "    }\n",
       "\n",
       "    .dataframe thead th {\n",
       "        text-align: right;\n",
       "    }\n",
       "</style>\n",
       "<table border=\"1\" class=\"dataframe\">\n",
       "  <thead>\n",
       "    <tr style=\"text-align: right;\">\n",
       "      <th></th>\n",
       "      <th>0</th>\n",
       "      <th>1</th>\n",
       "    </tr>\n",
       "  </thead>\n",
       "  <tbody>\n",
       "    <tr>\n",
       "      <th>count</th>\n",
       "      <td>3.260000e+02</td>\n",
       "      <td>4.340000e+02</td>\n",
       "    </tr>\n",
       "    <tr>\n",
       "      <th>mean</th>\n",
       "      <td>3.493865e-01</td>\n",
       "      <td>4.970046e-01</td>\n",
       "    </tr>\n",
       "    <tr>\n",
       "      <th>std</th>\n",
       "      <td>1.765906e-01</td>\n",
       "      <td>2.326973e-01</td>\n",
       "    </tr>\n",
       "    <tr>\n",
       "      <th>min</th>\n",
       "      <td>-2.775558e-17</td>\n",
       "      <td>-2.775558e-17</td>\n",
       "    </tr>\n",
       "    <tr>\n",
       "      <th>25%</th>\n",
       "      <td>2.000000e-01</td>\n",
       "      <td>4.000000e-01</td>\n",
       "    </tr>\n",
       "    <tr>\n",
       "      <th>50%</th>\n",
       "      <td>3.000000e-01</td>\n",
       "      <td>5.000000e-01</td>\n",
       "    </tr>\n",
       "    <tr>\n",
       "      <th>75%</th>\n",
       "      <td>4.000000e-01</td>\n",
       "      <td>6.000000e-01</td>\n",
       "    </tr>\n",
       "    <tr>\n",
       "      <th>max</th>\n",
       "      <td>8.000000e-01</td>\n",
       "      <td>1.000000e+00</td>\n",
       "    </tr>\n",
       "  </tbody>\n",
       "</table>\n",
       "</div>"
      ],
      "text/plain": [
       "                  0             1\n",
       "count  3.260000e+02  4.340000e+02\n",
       "mean   3.493865e-01  4.970046e-01\n",
       "std    1.765906e-01  2.326973e-01\n",
       "min   -2.775558e-17 -2.775558e-17\n",
       "25%    2.000000e-01  4.000000e-01\n",
       "50%    3.000000e-01  5.000000e-01\n",
       "75%    4.000000e-01  6.000000e-01\n",
       "max    8.000000e-01  1.000000e+00"
      ]
     },
     "execution_count": 51,
     "metadata": {},
     "output_type": "execute_result"
    }
   ],
   "source": [
    "# Get overall statistics for each explanation method\n",
    "pd.DataFrame(knn_cpt_results_idx).describe()"
   ]
  },
  {
   "cell_type": "code",
   "execution_count": 52,
   "metadata": {},
   "outputs": [
    {
     "data": {
      "text/html": [
       "<div>\n",
       "<style scoped>\n",
       "    .dataframe tbody tr th:only-of-type {\n",
       "        vertical-align: middle;\n",
       "    }\n",
       "\n",
       "    .dataframe tbody tr th {\n",
       "        vertical-align: top;\n",
       "    }\n",
       "\n",
       "    .dataframe thead th {\n",
       "        text-align: right;\n",
       "    }\n",
       "</style>\n",
       "<table border=\"1\" class=\"dataframe\">\n",
       "  <thead>\n",
       "    <tr style=\"text-align: right;\">\n",
       "      <th></th>\n",
       "      <th>0</th>\n",
       "      <th>1</th>\n",
       "    </tr>\n",
       "  </thead>\n",
       "  <tbody>\n",
       "    <tr>\n",
       "      <th>count</th>\n",
       "      <td>522.000000</td>\n",
       "      <td>522.000000</td>\n",
       "    </tr>\n",
       "    <tr>\n",
       "      <th>mean</th>\n",
       "      <td>-0.084062</td>\n",
       "      <td>-0.333610</td>\n",
       "    </tr>\n",
       "    <tr>\n",
       "      <th>std</th>\n",
       "      <td>0.122548</td>\n",
       "      <td>0.163451</td>\n",
       "    </tr>\n",
       "    <tr>\n",
       "      <th>min</th>\n",
       "      <td>-0.465500</td>\n",
       "      <td>-0.686700</td>\n",
       "    </tr>\n",
       "    <tr>\n",
       "      <th>25%</th>\n",
       "      <td>-0.147150</td>\n",
       "      <td>-0.431675</td>\n",
       "    </tr>\n",
       "    <tr>\n",
       "      <th>50%</th>\n",
       "      <td>-0.077950</td>\n",
       "      <td>-0.359550</td>\n",
       "    </tr>\n",
       "    <tr>\n",
       "      <th>75%</th>\n",
       "      <td>-0.001850</td>\n",
       "      <td>-0.276525</td>\n",
       "    </tr>\n",
       "    <tr>\n",
       "      <th>max</th>\n",
       "      <td>0.324800</td>\n",
       "      <td>0.174200</td>\n",
       "    </tr>\n",
       "  </tbody>\n",
       "</table>\n",
       "</div>"
      ],
      "text/plain": [
       "                0           1\n",
       "count  522.000000  522.000000\n",
       "mean    -0.084062   -0.333610\n",
       "std      0.122548    0.163451\n",
       "min     -0.465500   -0.686700\n",
       "25%     -0.147150   -0.431675\n",
       "50%     -0.077950   -0.359550\n",
       "75%     -0.001850   -0.276525\n",
       "max      0.324800    0.174200"
      ]
     },
     "execution_count": 52,
     "metadata": {},
     "output_type": "execute_result"
    }
   ],
   "source": [
    "# Get overall statistics for each explanation method\n",
    "pd.DataFrame(knn_shap_results_idx).describe()"
   ]
  },
  {
   "cell_type": "code",
   "execution_count": 53,
   "metadata": {},
   "outputs": [
    {
     "data": {
      "text/html": [
       "<div>\n",
       "<style scoped>\n",
       "    .dataframe tbody tr th:only-of-type {\n",
       "        vertical-align: middle;\n",
       "    }\n",
       "\n",
       "    .dataframe tbody tr th {\n",
       "        vertical-align: top;\n",
       "    }\n",
       "\n",
       "    .dataframe thead th {\n",
       "        text-align: right;\n",
       "    }\n",
       "</style>\n",
       "<table border=\"1\" class=\"dataframe\">\n",
       "  <thead>\n",
       "    <tr style=\"text-align: right;\">\n",
       "      <th></th>\n",
       "      <th>0</th>\n",
       "      <th>1</th>\n",
       "    </tr>\n",
       "  </thead>\n",
       "  <tbody>\n",
       "    <tr>\n",
       "      <th>count</th>\n",
       "      <td>522.000000</td>\n",
       "      <td>522.000000</td>\n",
       "    </tr>\n",
       "    <tr>\n",
       "      <th>mean</th>\n",
       "      <td>-0.014941</td>\n",
       "      <td>-0.349528</td>\n",
       "    </tr>\n",
       "    <tr>\n",
       "      <th>std</th>\n",
       "      <td>0.195973</td>\n",
       "      <td>0.243717</td>\n",
       "    </tr>\n",
       "    <tr>\n",
       "      <th>min</th>\n",
       "      <td>-0.229846</td>\n",
       "      <td>-0.563979</td>\n",
       "    </tr>\n",
       "    <tr>\n",
       "      <th>25%</th>\n",
       "      <td>-0.165320</td>\n",
       "      <td>-0.534357</td>\n",
       "    </tr>\n",
       "    <tr>\n",
       "      <th>50%</th>\n",
       "      <td>-0.095281</td>\n",
       "      <td>-0.336473</td>\n",
       "    </tr>\n",
       "    <tr>\n",
       "      <th>75%</th>\n",
       "      <td>-0.017748</td>\n",
       "      <td>-0.293293</td>\n",
       "    </tr>\n",
       "    <tr>\n",
       "      <th>max</th>\n",
       "      <td>0.373353</td>\n",
       "      <td>0.570572</td>\n",
       "    </tr>\n",
       "  </tbody>\n",
       "</table>\n",
       "</div>"
      ],
      "text/plain": [
       "                0           1\n",
       "count  522.000000  522.000000\n",
       "mean    -0.014941   -0.349528\n",
       "std      0.195973    0.243717\n",
       "min     -0.229846   -0.563979\n",
       "25%     -0.165320   -0.534357\n",
       "50%     -0.095281   -0.336473\n",
       "75%     -0.017748   -0.293293\n",
       "max      0.373353    0.570572"
      ]
     },
     "execution_count": 53,
     "metadata": {},
     "output_type": "execute_result"
    }
   ],
   "source": [
    "# Get overall statistics for each explanation method\n",
    "pd.DataFrame(knn_lime_results_idx).describe()"
   ]
  },
  {
   "cell_type": "code",
   "execution_count": null,
   "metadata": {},
   "outputs": [],
   "source": []
  }
 ],
 "metadata": {
  "kernelspec": {
   "display_name": "countershapleyExp",
   "language": "python",
   "name": "python3"
  },
  "language_info": {
   "codemirror_mode": {
    "name": "ipython",
    "version": 3
   },
   "file_extension": ".py",
   "mimetype": "text/x-python",
   "name": "python",
   "nbconvert_exporter": "python",
   "pygments_lexer": "ipython3",
   "version": "3.8.16"
  },
  "orig_nbformat": 4,
  "vscode": {
   "interpreter": {
    "hash": "153f7be58e12ef2b37dfe0ccf091520ea7525aa1bacb4f263491634bafca7062"
   }
  }
 },
 "nbformat": 4,
 "nbformat_minor": 2
}
